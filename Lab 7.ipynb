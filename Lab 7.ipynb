{
 "cells": [
  {
   "cell_type": "code",
   "execution_count": 1,
   "metadata": {},
   "outputs": [],
   "source": [
    "import tensorflow as tf\n",
    "import matplotlib.pyplot as plt\n",
    "import random\n",
    "import os\n",
    "import numpy as np\n",
    "import zipfile\n",
    "import os\n",
    "import tarfile\n",
    "import random\n",
    "\n",
    "from collections import defaultdict\n",
    "from scipy import ndimage\n",
    "from tensorflow.keras import regularizers\n",
    "from urllib.request import urlretrieve\n",
    "from scipy.io import loadmat\n",
    "\n",
    "from tensorflow.keras import Model, Input, Sequential, initializers\n",
    "from tensorflow.keras.preprocessing.sequence import pad_sequences\n",
    "from tensorflow.keras.layers import LSTM, Embedding, Layer, InputSpec, Dense, TimeDistributed, Dropout, Bidirectional, Lambda, Add, Flatten, Activation\n",
    "from tensorflow.keras.regularizers import L1L2\n",
    "\n",
    "tf.keras.backend.set_floatx('float64')\n",
    "dir_name = \"aclImdb/\"\n",
    "special_tokens = [\"<UNK>\", \"<PAD>\"]"
   ]
  },
  {
   "cell_type": "markdown",
   "metadata": {},
   "source": [
    "# Download data"
   ]
  },
  {
   "cell_type": "code",
   "execution_count": 2,
   "metadata": {},
   "outputs": [
    {
     "name": "stdout",
     "output_type": "stream",
     "text": [
      "Downloading from https://ai.stanford.edu/~amaas/data/sentiment/aclImdb_v1.tar.gz\n"
     ]
    }
   ],
   "source": [
    "def download_file(url, path):\n",
    "    print(\"Downloading from %s\" % url)\n",
    "    zip_path = path + \".zip\"\n",
    "    urlretrieve(url, zip_path)\n",
    "    tar = tarfile.open(zip_path, \"r:gz\")\n",
    "    tar.extractall()\n",
    "    tar.close()\n",
    "    os.remove(zip_path)    \n",
    "\n",
    "download_file(\"https://ai.stanford.edu/~amaas/data/sentiment/aclImdb_v1.tar.gz\", \"imdb\")"
   ]
  },
  {
   "cell_type": "code",
   "execution_count": 3,
   "metadata": {},
   "outputs": [
    {
     "data": {
      "text/plain": [
       "12500"
      ]
     },
     "execution_count": 3,
     "metadata": {},
     "output_type": "execute_result"
    }
   ],
   "source": [
    "len(os.listdir(\"aclImdb/train/pos\"))"
   ]
  },
  {
   "cell_type": "markdown",
   "metadata": {},
   "source": [
    "# Read data"
   ]
  },
  {
   "cell_type": "code",
   "execution_count": 2,
   "metadata": {},
   "outputs": [
    {
     "name": "stdout",
     "output_type": "stream",
     "text": [
      "Vocab length: 89529\n",
      "Train size: 22500. Val size: 2500. Test size: 25000.\n"
     ]
    }
   ],
   "source": [
    "idx2word = special_tokens\n",
    "word2idx = defaultdict(lambda: 1)\n",
    "word2idx[\"<PAD>\"] = 0\n",
    "word2idx[\"<UNK>\"] = 1\n",
    "with open(dir_name + \"imdb.vocab\", encoding=\"utf-8\") as f:\n",
    "    for word in f:\n",
    "        word = word.strip()\n",
    "        idx2word.append(word)\n",
    "        word2idx[word] = len(idx2word) - 2\n",
    "        \n",
    "print(\"Vocab length: %d\" % len(idx2word))\n",
    "\n",
    "def read_review_data(folder):\n",
    "    raw_review_data = []\n",
    "    for filename in os.listdir(dir_name + folder + \"/neg\"):\n",
    "        with open(dir_name + folder + \"/neg/\" + filename, encoding=\"utf-8\") as f:\n",
    "            raw_review_data.append((f.read(), 0))\n",
    "\n",
    "    for filename in os.listdir(dir_name + folder + \"/pos\"):\n",
    "        with open(dir_name + folder + \"/pos/\" + filename, encoding=\"utf-8\") as f:\n",
    "            raw_review_data.append((f.read(), 1))\n",
    "    \n",
    "    random.shuffle(raw_review_data)\n",
    "    return raw_review_data\n",
    "\n",
    "raw_train_data = read_review_data(\"train\")\n",
    "raw_test_data = read_review_data(\"test\")\n",
    "        \n",
    "train_len = len(raw_train_data)\n",
    "val_len = int(train_len * 0.1)\n",
    "raw_val_data = raw_train_data[:val_len]\n",
    "raw_train_data = raw_train_data[val_len:]\n",
    "\n",
    "print(\"Train size: %d. Val size: %d. Test size: %d.\" % (len(raw_train_data), len(raw_val_data), len(raw_test_data)))"
   ]
  },
  {
   "cell_type": "markdown",
   "metadata": {},
   "source": [
    "# Convert texts into arrays of indexes"
   ]
  },
  {
   "cell_type": "markdown",
   "metadata": {},
   "source": [
    "## 1. Tokenize"
   ]
  },
  {
   "cell_type": "code",
   "execution_count": 3,
   "metadata": {},
   "outputs": [
    {
     "name": "stderr",
     "output_type": "stream",
     "text": [
      "c:\\users\\r.cherny\\appdata\\local\\programs\\python\\python37\\lib\\site-packages\\smart_open\\smart_open_lib.py:398: UserWarning: This function is deprecated, use smart_open.open instead. See the migration notes for details: https://github.com/RaRe-Technologies/smart_open/blob/master/README.rst#migrating-to-the-new-open-function\n",
      "  'See the migration notes for details: %s' % _MIGRATION_NOTES_URL\n"
     ]
    },
    {
     "name": "stdout",
     "output_type": "stream",
     "text": [
      "['london', 'is', 'the', 'capital', 'of', 'great', 'britain', '!']\n"
     ]
    }
   ],
   "source": [
    "from nltk.tokenize import sent_tokenize, word_tokenize\n",
    "from bpemb import BPEmb\n",
    "\n",
    "bpemb_en = BPEmb(lang=\"en\", vs=200000)\n",
    "\n",
    "def tokenize_bpe(text):\n",
    "    return [t.replace(\"▁\", \"\") for t in bpemb_en.encode(text)]\n",
    "\n",
    "def tokenize(text):\n",
    "    return [t.lower() for t in word_tokenize(text)]\n",
    "\n",
    "print(tokenize_bpe(\"London is the capital of great Britain!\"))"
   ]
  },
  {
   "cell_type": "markdown",
   "metadata": {},
   "source": [
    "## 2. Preprocess"
   ]
  },
  {
   "cell_type": "code",
   "execution_count": 4,
   "metadata": {},
   "outputs": [
    {
     "name": "stdout",
     "output_type": "stream",
     "text": [
      "bold text\n"
     ]
    }
   ],
   "source": [
    "import re\n",
    "cleanr = re.compile('<.*?>')\n",
    "\n",
    "def preprocess(text):\n",
    "    cleantext = re.sub(cleanr, '', text)\n",
    "    return cleantext\n",
    "\n",
    "print(preprocess(\"<b>bold text</b>\"))"
   ]
  },
  {
   "cell_type": "markdown",
   "metadata": {},
   "source": [
    "##  3. Remove stop words"
   ]
  },
  {
   "cell_type": "code",
   "execution_count": 5,
   "metadata": {},
   "outputs": [
    {
     "name": "stdout",
     "output_type": "stream",
     "text": [
      "['london', 'capital', 'great', 'britain']\n"
     ]
    }
   ],
   "source": [
    "from nltk.corpus import stopwords\n",
    "\n",
    "english_stopwords = set(stopwords.words('english'))\n",
    "\n",
    "def remove_stop_words(tokens):\n",
    "    return [t for t in tokens if any(c.isalpha() for c in t) and t not in english_stopwords]\n",
    "\n",
    "print(remove_stop_words(tokenize_bpe(\"London is the capital of great Britain!\")))"
   ]
  },
  {
   "cell_type": "markdown",
   "metadata": {},
   "source": [
    "## 4. Putting all together"
   ]
  },
  {
   "cell_type": "code",
   "execution_count": 6,
   "metadata": {},
   "outputs": [],
   "source": [
    "def text2tokens(text):\n",
    "    text = preprocess(text)\n",
    "    tokens = tokenize_bpe(text)\n",
    "    tokens = remove_stop_words(tokens)\n",
    "    return tokens\n",
    "\n",
    "train_data = [(text2tokens(t), label) for t, label in raw_train_data]\n",
    "val_data = [(text2tokens(t), label) for t, label in raw_val_data]\n",
    "test_data = [(text2tokens(t), label) for t, label in raw_test_data]"
   ]
  },
  {
   "cell_type": "code",
   "execution_count": 10,
   "metadata": {},
   "outputs": [
    {
     "name": "stdout",
     "output_type": "stream",
     "text": [
      "['london', 'capital', 'great', 'britain']\n",
      "['enjoyed', 'story', 'things', 'learned', 'wwi', 'planes', 'boats', 'make', 'movie', 'must', 'see', 'close', 'ups', 'plane', 'torpedo', 'boat', 'used', 'completely', 'new', 'heartily', 'recommend']\n"
     ]
    }
   ],
   "source": [
    "print(text2tokens(\"London is the capital of great Britain!\"))\n",
    "print(train_data[0][0])"
   ]
  },
  {
   "cell_type": "markdown",
   "metadata": {},
   "source": [
    "# Analyze data"
   ]
  },
  {
   "cell_type": "code",
   "execution_count": 8,
   "metadata": {},
   "outputs": [
    {
     "data": {
      "image/png": "[encoded data removed]",
      "text/plain": [
       "<Figure size 432x288 with 1 Axes>"
      ]
     },
     "metadata": {
      "needs_background": "light"
     },
     "output_type": "display_data"
    }
   ],
   "source": [
    "import matplotlib.pyplot as plt\n",
    "\n",
    "lengths = [len(t[0]) for t in test_data] + [len(t[0]) for t in val_data] + [len(t[0]) for t in train_data]\n",
    "plt.hist(lengths, bins = 50)\n",
    "plt.show()"
   ]
  },
  {
   "cell_type": "markdown",
   "metadata": {},
   "source": [
    "# Pad data"
   ]
  },
  {
   "cell_type": "code",
   "execution_count": 7,
   "metadata": {},
   "outputs": [],
   "source": [
    "def pad_data(tokens, max_length):\n",
    "    idxs = [word2idx[word] for word in tokens]\n",
    "    pad_idx = word2idx[\"<PAD>\"]\n",
    "    if len(idxs) < max_length:\n",
    "        idxs.extend([pad_idx] * (max_length - len(idxs)))\n",
    "    else:\n",
    "        return np.array(idxs[:max_length])\n",
    "    return np.array(idxs)\n",
    "\n",
    "def unzip(data):\n",
    "    return np.array([t[0] for t in data]), np.array([t[1] for t in data])"
   ]
  },
  {
   "cell_type": "code",
   "execution_count": 8,
   "metadata": {},
   "outputs": [
    {
     "name": "stdout",
     "output_type": "stream",
     "text": [
      "[ 2805 11246   990   286   107   203  8237   172   659   185   280  2207\n",
      "  5643 11043 14778  6966 11135   891   164  3212   291  1704  4960  1182\n",
      "   847   445  1730  2462  1730    62  1068  6127  1024    84   401  1855\n",
      "  2812  1841  1423   106  1720   378   327    95    16  2512  8608  2836\n",
      "   229  1537 12323  7075  1356 16608    80   180  1920  4983   245  1956\n",
      " 87739  3684   160   984    27 77503     1  2754   146   117   820  4983\n",
      "   103  8120  2812  3197 13390   565  3429   142  1914    72   223   882\n",
      "  1674 26970   312  1182   312   459   571   189    58   104   344   990\n",
      "     0     0     0     0     0     0     0     0     0     0     0     0\n",
      "     0     0     0     0     0     0     0     0     0     0     0     0\n",
      "     0     0     0     0     0     0     0     0     0     0     0     0\n",
      "     0     0     0     0     0     0     0     0     0     0     0     0\n",
      "     0     0     0     0     0     0     0     0     0     0     0     0\n",
      "     0     0     0     0     0     0     0     0     0     0     0     0\n",
      "     0     0     0     0     0     0     0     0     0     0     0     0\n",
      "     0     0     0     0     0     0     0     0     0     0     0     0\n",
      "     0     0     0     0     0     0     0     0     0     0     0     0\n",
      "     0     0     0     0     0     0     0     0     0     0     0     0\n",
      "     0     0     0     0     0     0     0     0     0     0     0     0\n",
      "     0     0     0     0     0     0     0     0     0     0     0     0\n",
      "     0     0     0     0     0     0     0     0     0     0     0     0\n",
      "     0     0     0     0     0     0     0     0     0     0     0     0\n",
      "     0     0     0     0     0     0     0     0     0     0     0     0\n",
      "     0     0     0     0     0     0     0     0     0     0     0     0\n",
      "     0     0     0     0     0     0     0     0     0     0     0     0\n",
      "     0     0     0     0     0     0     0     0     0     0     0     0\n",
      "     0     0     0     0     0     0     0     0     0     0     0     0\n",
      "     0     0     0     0     0     0     0     0     0     0     0     0\n",
      "     0     0     0     0     0     0     0     0     0     0     0     0\n",
      "     0     0     0     0     0     0     0     0     0     0     0     0\n",
      "     0     0     0     0     0     0     0     0     0     0     0     0\n",
      "     0     0     0     0     0     0     0     0     0     0     0     0\n",
      "     0     0     0     0     0     0     0     0     0     0     0     0\n",
      "     0     0     0     0     0     0     0     0     0     0     0     0\n",
      "     0     0     0     0     0     0     0     0     0     0     0     0\n",
      "     0     0     0     0     0     0     0     0     0     0     0     0\n",
      "     0     0     0     0     0     0     0     0     0     0     0     0\n",
      "     0     0     0     0     0     0     0     0     0     0     0     0\n",
      "     0     0     0     0     0     0     0     0     0     0     0     0\n",
      "     0     0     0     0     0     0     0     0     0     0     0     0\n",
      "     0     0     0     0     0     0     0     0     0     0     0     0\n",
      "     0     0     0     0     0     0     0     0     0     0     0     0\n",
      "     0     0     0     0     0     0     0     0     0     0     0     0\n",
      "     0     0     0     0     0     0     0     0     0     0     0     0\n",
      "     0     0     0     0     0     0     0     0     0     0     0     0\n",
      "     0     0     0     0     0     0     0     0     0     0     0     0\n",
      "     0     0     0     0     0     0     0     0     0     0     0     0\n",
      "     0     0     0     0     0     0     0     0     0     0     0     0\n",
      "     0     0     0     0     0     0     0     0     0     0     0     0\n",
      "     0     0     0     0     0     0     0     0     0     0     0     0]\n"
     ]
    }
   ],
   "source": [
    "max_length = 600\n",
    "\n",
    "x_train, y_train = unzip([(pad_data(t, max_length), label) for t, label in train_data])\n",
    "x_val, y_val = unzip([(pad_data(t, max_length), label) for t, label in val_data])\n",
    "x_test, y_test = unzip([(pad_data(t, max_length), label) for t, label in test_data])\n",
    "\n",
    "print(np.array(x_train[0]))"
   ]
  },
  {
   "cell_type": "code",
   "execution_count": 13,
   "metadata": {},
   "outputs": [
    {
     "name": "stdout",
     "output_type": "stream",
     "text": [
      "Model: \"sequential_1\"\n",
      "_________________________________________________________________\n",
      "Layer (type)                 Output Shape              Param #   \n",
      "=================================================================\n",
      "embedding_1 (Embedding)      (None, 600, 50)           4476450   \n",
      "_________________________________________________________________\n",
      "bidirectional_1 (Bidirection (None, 128)               58880     \n",
      "_________________________________________________________________\n",
      "dropout_1 (Dropout)          (None, 128)               0         \n",
      "_________________________________________________________________\n",
      "dense_1 (Dense)              (None, 1)                 129       \n",
      "=================================================================\n",
      "Total params: 4,535,459\n",
      "Trainable params: 4,535,459\n",
      "Non-trainable params: 0\n",
      "_________________________________________________________________\n"
     ]
    }
   ],
   "source": [
    "n_words = len(idx2word)\n",
    "embedding_dim = 50\n",
    "batch_size = 32\n",
    "\n",
    "model = Sequential([\n",
    "    Embedding(input_dim=n_words, output_dim=embedding_dim, input_length=max_length),\n",
    "    Bidirectional(LSTM(64)),\n",
    "    Dropout(0.2),\n",
    "    Dense(1, activation='sigmoid')\n",
    "])\n",
    "\n",
    "model.compile('adam', 'binary_crossentropy', metrics=['accuracy'])\n",
    "model.summary()"
   ]
  },
  {
   "cell_type": "code",
   "execution_count": 14,
   "metadata": {},
   "outputs": [
    {
     "name": "stdout",
     "output_type": "stream",
     "text": [
      "Train on 22500 samples, validate on 2500 samples\n",
      "Epoch 1/2\n",
      "22500/22500 [==============================] - 772s 34ms/sample - loss: 0.5011 - accuracy: 0.7622 - val_loss: 0.3698 - val_accuracy: 0.8656\n",
      "Epoch 2/2\n",
      "22500/22500 [==============================] - 800s 36ms/sample - loss: 0.3014 - accuracy: 0.8802 - val_loss: 0.3010 - val_accuracy: 0.8792\n"
     ]
    }
   ],
   "source": [
    "history = model.fit(x_train, y_train, validation_data=(x_val, y_val), batch_size=batch_size, epochs=2, verbose=1)"
   ]
  },
  {
   "cell_type": "code",
   "execution_count": 15,
   "metadata": {},
   "outputs": [
    {
     "name": "stdout",
     "output_type": "stream",
     "text": [
      "25000/25000 [==============================] - 80s 3ms/sample - loss: 0.3539 - accuracy: 0.8473\n"
     ]
    },
    {
     "data": {
      "image/png": "[encoded data removed]",
      "text/plain": [
       "<Figure size 432x288 with 1 Axes>"
      ]
     },
     "metadata": {
      "needs_background": "light"
     },
     "output_type": "display_data"
    }
   ],
   "source": [
    "model.evaluate(x_test, y_test)\n",
    "\n",
    "plt.title('model accuracy')\n",
    "plt.ylabel('accuracy')\n",
    "plt.xlabel('epoch')\n",
    "\n",
    "plt.plot(history.history['accuracy'])\n",
    "plt.plot(history.history['val_accuracy'])\n",
    "\n",
    "plt.legend(['train', 'val'], loc='upper left')\n",
    "plt.show()"
   ]
  },
  {
   "cell_type": "markdown",
   "metadata": {},
   "source": [
    "# GloVe embeddings"
   ]
  },
  {
   "cell_type": "markdown",
   "metadata": {},
   "source": [
    "## 1. Download embeddings"
   ]
  },
  {
   "cell_type": "code",
   "execution_count": 11,
   "metadata": {},
   "outputs": [],
   "source": [
    "import urllib.request\n",
    "import zipfile\n",
    "\n",
    "url = 'http://nlp.stanford.edu/data/glove.twitter.27B.zip'\n",
    "urllib.request.urlretrieve(url, 'twitter_glove')\n",
    "with zipfile.ZipFile('twitter_glove', 'r') as zip_ref:\n",
    "    zip_ref.extractall('twitter_glove_data')"
   ]
  },
  {
   "cell_type": "markdown",
   "metadata": {},
   "source": [
    "## 2. Load embeddings"
   ]
  },
  {
   "cell_type": "code",
   "execution_count": 8,
   "metadata": {},
   "outputs": [],
   "source": [
    "embedding_dim = 50\n",
    "\n",
    "def load_glove_embeddings(embedding_dim, special_tokens):\n",
    "    word2idx = defaultdict(lambda: 0)\n",
    "    idx2word = special_tokens\n",
    "    glove_weights = []\n",
    "    for i, word in enumerate(idx2word):\n",
    "        word2idx[word] = i\n",
    "        glove_weights.append(np.zeros(embedding_dim))\n",
    "\n",
    "    with open(\"twitter_glove_data/glove.twitter.27B.%dd.txt\" % embedding_dim, \"r\", encoding=\"utf-8\") as f:\n",
    "        for line in f:\n",
    "            word, *vector = line.split(' ')\n",
    "            vector = np.array([float(v) for v in vector])\n",
    "            word2idx[word] = len(idx2word)\n",
    "            idx2word.append(word)\n",
    "            glove_weights.append(vector)\n",
    "    glove_weights = np.array(glove_weights)\n",
    "    return word2idx, idx2word, glove_weights\n",
    "\n",
    "word2idx, idx2word, glove_weights = load_glove_embeddings(embedding_dim, special_tokens)"
   ]
  },
  {
   "cell_type": "code",
   "execution_count": 9,
   "metadata": {},
   "outputs": [],
   "source": [
    "max_length = 600\n",
    "\n",
    "x_train, y_train = unzip([(pad_data(t, max_length), label) for t, label in train_data])\n",
    "x_val, y_val = unzip([(pad_data(t, max_length), label) for t, label in val_data])\n",
    "x_test, y_test = unzip([(pad_data(t, max_length), label) for t, label in test_data])"
   ]
  },
  {
   "cell_type": "code",
   "execution_count": 10,
   "metadata": {},
   "outputs": [
    {
     "name": "stdout",
     "output_type": "stream",
     "text": [
      "Model: \"sequential\"\n",
      "_________________________________________________________________\n",
      "Layer (type)                 Output Shape              Param #   \n",
      "=================================================================\n",
      "embedding (Embedding)        (None, 600, 50)           64152150  \n",
      "_________________________________________________________________\n",
      "bidirectional (Bidirectional (None, 128)               58880     \n",
      "_________________________________________________________________\n",
      "dropout (Dropout)            (None, 128)               0         \n",
      "_________________________________________________________________\n",
      "dense (Dense)                (None, 1)                 129       \n",
      "=================================================================\n",
      "Total params: 64,211,159\n",
      "Trainable params: 59,009\n",
      "Non-trainable params: 64,152,150\n",
      "_________________________________________________________________\n"
     ]
    }
   ],
   "source": [
    "n_words = len(idx2word)\n",
    "batch_size = 128\n",
    "max_len = 600\n",
    "\n",
    "model = Sequential([\n",
    "    Embedding(input_dim=n_words, output_dim=embedding_dim, \n",
    "              weights=[glove_weights], \n",
    "              trainable=False, \n",
    "              input_length=max_len, mask_zero=True),\n",
    "    Bidirectional(LSTM(64)),\n",
    "    Dropout(0.2),\n",
    "    Dense(1, activation='sigmoid')\n",
    "])\n",
    "\n",
    "model.compile('adam', 'binary_crossentropy', metrics=['accuracy'])\n",
    "model.summary()"
   ]
  },
  {
   "cell_type": "code",
   "execution_count": 11,
   "metadata": {},
   "outputs": [
    {
     "name": "stdout",
     "output_type": "stream",
     "text": [
      "Train on 22500 samples, validate on 2500 samples\n",
      "Epoch 1/5\n",
      "22500/22500 [==============================] - 1193s 53ms/sample - loss: 0.5577 - accuracy: 0.7154 - val_loss: 0.4807 - val_accuracy: 0.7776\n",
      "Epoch 2/5\n",
      "22500/22500 [==============================] - 1292s 57ms/sample - loss: 0.4795 - accuracy: 0.7770 - val_loss: 0.4728 - val_accuracy: 0.7696\n",
      "Epoch 3/5\n",
      "22500/22500 [==============================] - 1337s 59ms/sample - loss: 0.4491 - accuracy: 0.7947 - val_loss: 0.4600 - val_accuracy: 0.7748\n",
      "Epoch 4/5\n",
      "22500/22500 [==============================] - 1372s 61ms/sample - loss: 0.4320 - accuracy: 0.8048 - val_loss: 0.4164 - val_accuracy: 0.8184\n",
      "Epoch 5/5\n",
      "22500/22500 [==============================] - 1416s 63ms/sample - loss: 0.4467 - accuracy: 0.7984 - val_loss: 0.4055 - val_accuracy: 0.8212\n"
     ]
    }
   ],
   "source": [
    "history = model.fit(x_train, y_train, validation_data=(x_val, y_val), batch_size=batch_size, epochs=5, verbose=1)"
   ]
  },
  {
   "cell_type": "code",
   "execution_count": 12,
   "metadata": {},
   "outputs": [
    {
     "name": "stdout",
     "output_type": "stream",
     "text": [
      "25000/25000 [==============================] - 86s 3ms/sample - loss: 0.4114 - accuracy: 0.8162\n"
     ]
    },
    {
     "data": {
      "image/png": "[encoded data removed]",
      "text/plain": [
       "<Figure size 432x288 with 1 Axes>"
      ]
     },
     "metadata": {
      "needs_background": "light"
     },
     "output_type": "display_data"
    }
   ],
   "source": [
    "model.evaluate(x_test, y_test)\n",
    "\n",
    "plt.title('model accuracy')\n",
    "plt.ylabel('accuracy')\n",
    "plt.xlabel('epoch')\n",
    "\n",
    "plt.plot(history.history['accuracy'])\n",
    "plt.plot(history.history['val_accuracy'])\n",
    "\n",
    "plt.legend(['train', 'val'], loc='upper left')\n",
    "plt.show()"
   ]
  },
  {
   "cell_type": "markdown",
   "metadata": {},
   "source": [
    "## Enhance model"
   ]
  },
  {
   "cell_type": "code",
   "execution_count": 13,
   "metadata": {},
   "outputs": [
    {
     "name": "stdout",
     "output_type": "stream",
     "text": [
      "Model: \"sequential_1\"\n",
      "_________________________________________________________________\n",
      "Layer (type)                 Output Shape              Param #   \n",
      "=================================================================\n",
      "embedding_1 (Embedding)      (None, 600, 50)           64152150  \n",
      "_________________________________________________________________\n",
      "bidirectional_1 (Bidirection (None, 128)               58880     \n",
      "_________________________________________________________________\n",
      "dense_1 (Dense)              (None, 128)               16512     \n",
      "_________________________________________________________________\n",
      "dense_2 (Dense)              (None, 128)               16512     \n",
      "_________________________________________________________________\n",
      "dropout_1 (Dropout)          (None, 128)               0         \n",
      "_________________________________________________________________\n",
      "dense_3 (Dense)              (None, 1)                 129       \n",
      "=================================================================\n",
      "Total params: 64,244,183\n",
      "Trainable params: 92,033\n",
      "Non-trainable params: 64,152,150\n",
      "_________________________________________________________________\n"
     ]
    }
   ],
   "source": [
    "n_words = len(idx2word)\n",
    "batch_size = 128\n",
    "max_len = 600\n",
    "embedding_dim = 50\n",
    "\n",
    "model = Sequential([\n",
    "    Embedding(input_dim=n_words, output_dim=embedding_dim, \n",
    "              weights=[glove_weights], \n",
    "              trainable=False, \n",
    "              input_length=max_len, mask_zero=True),\n",
    "    Bidirectional(LSTM(64)),\n",
    "    Dense(128, activation='relu'),\n",
    "    Dense(128, activation='relu'),\n",
    "    Dropout(0.1),\n",
    "    Dense(1, activation='sigmoid')\n",
    "])\n",
    "\n",
    "\n",
    "model.compile('adam', 'binary_crossentropy', metrics=['accuracy'])\n",
    "model.summary()"
   ]
  },
  {
   "cell_type": "code",
   "execution_count": 14,
   "metadata": {},
   "outputs": [
    {
     "name": "stdout",
     "output_type": "stream",
     "text": [
      "Train on 22500 samples, validate on 2500 samples\n",
      "Epoch 1/5\n",
      "22500/22500 [==============================] - 1542s 69ms/sample - loss: 0.5645 - accuracy: 0.7159 - val_loss: 0.5000 - val_accuracy: 0.7676\n",
      "Epoch 2/5\n",
      "22500/22500 [==============================] - 1712s 76ms/sample - loss: 0.4832 - accuracy: 0.7766 - val_loss: 0.4700 - val_accuracy: 0.7752\n",
      "Epoch 3/5\n",
      "22500/22500 [==============================] - 1841s 82ms/sample - loss: 0.4598 - accuracy: 0.7927 - val_loss: 0.4536 - val_accuracy: 0.7844\n",
      "Epoch 4/5\n",
      "22500/22500 [==============================] - 1978s 88ms/sample - loss: 0.4268 - accuracy: 0.8101 - val_loss: 0.3993 - val_accuracy: 0.8272\n",
      "Epoch 5/5\n",
      "22500/22500 [==============================] - 2145s 95ms/sample - loss: 0.3956 - accuracy: 0.8281 - val_loss: 0.3869 - val_accuracy: 0.8320\n"
     ]
    }
   ],
   "source": [
    "history = model.fit(x_train, y_train, validation_data=(x_val, y_val), batch_size=batch_size, epochs=5, verbose=1)"
   ]
  },
  {
   "cell_type": "code",
   "execution_count": 15,
   "metadata": {},
   "outputs": [
    {
     "name": "stdout",
     "output_type": "stream",
     "text": [
      "25000/25000 [==============================] - 129s 5ms/sample - loss: 0.3928 - accuracy: 0.8292\n"
     ]
    },
    {
     "data": {
      "image/png": "[encoded data removed]",
      "text/plain": [
       "<Figure size 432x288 with 1 Axes>"
      ]
     },
     "metadata": {
      "needs_background": "light"
     },
     "output_type": "display_data"
    }
   ],
   "source": [
    "model.evaluate(x_test, y_test)\n",
    "\n",
    "plt.title('model accuracy')\n",
    "plt.ylabel('accuracy')\n",
    "plt.xlabel('epoch')\n",
    "\n",
    "plt.plot(history.history['accuracy'])\n",
    "plt.plot(history.history['val_accuracy'])\n",
    "\n",
    "plt.legend(['train', 'val'], loc='upper left')\n",
    "plt.show()"
   ]
  },
  {
   "cell_type": "markdown",
   "metadata": {},
   "source": [
    "## Existing model"
   ]
  },
  {
   "cell_type": "code",
   "execution_count": null,
   "metadata": {},
   "outputs": [],
   "source": [
    "import zipfile\n",
    "\n",
    "urlretrieve(\"https://github.com/bfelbo/DeepMoji/archive/master.zip\", \"master.zip\")\n",
    "with zipfile.ZipFile(\"master.zip\", 'r') as zip_ref:\n",
    "    zip_ref.extractall(\".\")\n",
    "\n",
    "\n",
    "urlretrieve(\"https://uc5e9e71e056a7db22fe03924e9c.dl.dropboxusercontent.com/cd/0/get/A1kiXKCzvHsOx7AasrgtoVozK8wpXlIbyQkFCplavFNREAZ-kYxGkiVctR02z9uld00rTMQFwL4nl26dUdlYGtzOOh42VDS_V0uEMDae9cvKkw/file?_download_id=65003392492753452134180909853568979055614964122693868972846519&_notify_domain=www.dropbox.com&dl=1\", \"deepmoji_weights.hdf5\")"
   ]
  },
  {
   "cell_type": "code",
   "execution_count": 22,
   "metadata": {},
   "outputs": [],
   "source": [
    "import sys\n",
    "sys.path.insert(0, \"C:\\\\Users\\\\r.cherny\\\\Lab 7\\\\DeepMoji-master\")\n",
    "sys.path.insert(0, \"C:\\\\Users\\\\r.cherny\\\\Lab 7\\\\DeepMoji-master\\\\deepmoji\")"
   ]
  },
  {
   "cell_type": "code",
   "execution_count": 27,
   "metadata": {},
   "outputs": [
    {
     "name": "stdout",
     "output_type": "stream",
     "text": [
      "Tokenizing using dictionary from DeepMoji-master/model/vocabulary.json\n"
     ]
    }
   ],
   "source": [
    "import json\n",
    "\n",
    "VOCAB_PATH = \"DeepMoji-master/model/vocabulary.json\"\n",
    "print('Tokenizing using dictionary from {}'.format(VOCAB_PATH))\n",
    "with open(VOCAB_PATH, 'r') as f:\n",
    "    word2idx = json.load(f)\n",
    "    \n",
    "idx2word = [None] * len(word2idx)\n",
    "for word, idx in word2idx.items():\n",
    "    idx2word[idx] = word"
   ]
  },
  {
   "cell_type": "code",
   "execution_count": 28,
   "metadata": {},
   "outputs": [],
   "source": [
    "def text2idxs_deep_emoji(text, max_len=600):\n",
    "    text = preprocess(text)\n",
    "    tokens = tokenize(text)\n",
    "    tokens = [t for t in tokens if t not in english_stopwords]\n",
    "    idxs = []\n",
    "    for token in tokens:\n",
    "        if token not in word2idx:\n",
    "            idxs.append(word2idx[\"CUSTOM_UNKNOWN\"])\n",
    "        else:\n",
    "            idxs.append(word2idx[token])\n",
    "    pad_idx = word2idx[\"CUSTOM_MASK\"]\n",
    "    if len(idxs) < max_len:\n",
    "        idxs.extend([pad_idx] * (max_len - len(idxs)))\n",
    "    else:\n",
    "        return np.array(idxs[:max_length])\n",
    "    return np.array(idxs)\n",
    "\n",
    "emoji_train_data = [(text2idxs_deep_emoji(t), label) for t, label in raw_train_data]\n",
    "emoji_val_data = [(text2idxs_deep_emoji(t), label) for t, label in raw_val_data]\n",
    "emoji_test_data = [(text2idxs_deep_emoji(t), label) for t, label in raw_test_data]"
   ]
  },
  {
   "cell_type": "code",
   "execution_count": 30,
   "metadata": {},
   "outputs": [],
   "source": [
    "x_emoji_train, y_emoji_train = unzip(emoji_train_data)\n",
    "x_emoji_val, y_emoji_val = unzip(emoji_val_data)\n",
    "x_emoji_test, y_emoji_test = unzip(emoji_test_data)"
   ]
  },
  {
   "cell_type": "code",
   "execution_count": 46,
   "metadata": {},
   "outputs": [
    {
     "name": "stdout",
     "output_type": "stream",
     "text": [
      "Loading weights for embedding\n",
      "Loading weights for bi_lstm_0\n",
      "Loading weights for bi_lstm_1\n",
      "Loading weights for attlayer\n",
      "Ignoring weights for softmax\n",
      "Model: \"model_4\"\n",
      "__________________________________________________________________________________________________\n",
      "Layer (type)                    Output Shape         Param #     Connected to                     \n",
      "==================================================================================================\n",
      "input_6 (InputLayer)            (None, 600)          0                                            \n",
      "__________________________________________________________________________________________________\n",
      "embedding (Embedding)           (None, 600, 256)     12800000    input_6[0][0]                    \n",
      "__________________________________________________________________________________________________\n",
      "activation_6 (Activation)       (None, 600, 256)     0           embedding[0][0]                  \n",
      "__________________________________________________________________________________________________\n",
      "embed_drop (SpatialDropout1D)   (None, 600, 256)     0           activation_6[0][0]               \n",
      "__________________________________________________________________________________________________\n",
      "bi_lstm_0 (Bidirectional)       (None, 600, 1024)    3149824     embed_drop[0][0]                 \n",
      "__________________________________________________________________________________________________\n",
      "bi_lstm_1 (Bidirectional)       (None, 600, 1024)    6295552     bi_lstm_0[0][0]                  \n",
      "__________________________________________________________________________________________________\n",
      "concatenate_6 (Concatenate)     (None, 600, 2304)    0           bi_lstm_1[0][0]                  \n",
      "                                                                 bi_lstm_0[0][0]                  \n",
      "                                                                 embed_drop[0][0]                 \n",
      "__________________________________________________________________________________________________\n",
      "attlayer (AttentionWeightedAver (None, 2304)         2304        concatenate_6[0][0]              \n",
      "__________________________________________________________________________________________________\n",
      "dropout_5 (Dropout)             (None, 2304)         0           attlayer[0][0]                   \n",
      "__________________________________________________________________________________________________\n",
      "dense_7 (Dense)                 (None, 128)          295040      dropout_5[0][0]                  \n",
      "__________________________________________________________________________________________________\n",
      "dense_8 (Dense)                 (None, 1)            129         dense_7[0][0]                    \n",
      "==================================================================================================\n",
      "Total params: 22,542,849\n",
      "Trainable params: 295,169\n",
      "Non-trainable params: 22,247,680\n",
      "__________________________________________________________________________________________________\n"
     ]
    }
   ],
   "source": [
    "from deepmoji.model_def import deepmoji_transfer\n",
    "from deepmoji.finetuning import finetune\n",
    "\n",
    "nb_classes = 2\n",
    "max_len = 600\n",
    "\n",
    "deepmoji_base = deepmoji_transfer(nb_classes, max_len, \"deepmoji_weights.hdf5\")\n",
    "deepmoji_base.layers.pop()\n",
    "for layer in deepmoji_base.layers:\n",
    "    layer.trainable = False\n",
    "\n",
    "x = deepmoji_base.layers[-1].output\n",
    "x = keras.layers.Dense(128, activation='relu')(x)\n",
    "preds = keras.layers.Dense(1, activation='sigmoid')(x)\n",
    "\n",
    "deepmoji_model = keras.Model(deepmoji_base.input, outputs=preds)\n",
    "deepmoji_model.compile('adam', 'binary_crossentropy', metrics=['accuracy'])\n",
    "deepmoji_model.summary()"
   ]
  },
  {
   "cell_type": "code",
   "execution_count": 47,
   "metadata": {},
   "outputs": [
    {
     "name": "stdout",
     "output_type": "stream",
     "text": [
      "Train on 22500 samples, validate on 2500 samples\n",
      "Epoch 1/2\n",
      "22500/22500 [==============================] - 3257s 145ms/step - loss: 0.4915 - accuracy: 0.7811 - val_loss: 0.3985 - val_accuracy: 0.8252\n",
      "Epoch 2/2\n",
      "22500/22500 [==============================] - 2902s 129ms/step - loss: 0.4507 - accuracy: 0.8008 - val_loss: 0.3863 - val_accuracy: 0.8340\n"
     ]
    }
   ],
   "source": [
    "history = deepmoji_model.fit(x_emoji_train, y_emoji_train, validation_data=(x_emoji_val, y_emoji_val), batch_size=batch_size, epochs=2, verbose=1)"
   ]
  },
  {
   "cell_type": "code",
   "execution_count": 52,
   "metadata": {},
   "outputs": [],
   "source": [
    "predictions = deepmoji_model.predict(x_emoji_test)"
   ]
  },
  {
   "cell_type": "code",
   "execution_count": 73,
   "metadata": {},
   "outputs": [
    {
     "name": "stdout",
     "output_type": "stream",
     "text": [
      "0.83468\n"
     ]
    }
   ],
   "source": [
    "import math\n",
    "accurate_total = 0\n",
    "total = len(x_emoji_test)\n",
    "for i in range(total):\n",
    "    expected = y_emoji_test[i]\n",
    "    actual = predictions[i]\n",
    "    if actual > 0.51:\n",
    "        actual = 1\n",
    "    else:\n",
    "        actual = 0\n",
    "    if actual == expected:\n",
    "        accurate_total += 1\n",
    "print(accurate_total / total)\n"
   ]
  },
  {
   "cell_type": "code",
   "execution_count": 50,
   "metadata": {},
   "outputs": [
    {
     "name": "stdout",
     "output_type": "stream",
     "text": [
      "25000/25000 [==============================] - 8041s 322ms/step\n"
     ]
    },
    {
     "data": {
      "image/png": "[encoded data removed]",
      "text/plain": [
       "<Figure size 432x288 with 1 Axes>"
      ]
     },
     "metadata": {
      "needs_background": "light"
     },
     "output_type": "display_data"
    }
   ],
   "source": [
    "plt.title('model accuracy')\n",
    "plt.ylabel('accuracy')\n",
    "plt.xlabel('epoch')\n",
    "\n",
    "plt.plot(temp_history.history['accuracy'])\n",
    "plt.plot(temp_history.history['val_accuracy'])\n",
    "\n",
    "plt.legend(['train', 'val'], loc='upper left')\n",
    "plt.show()"
   ]
  }
 ],
 "metadata": {
  "kernelspec": {
   "display_name": "Python 3",
   "language": "python",
   "name": "python3"
  },
  "language_info": {
   "codemirror_mode": {
    "name": "ipython",
    "version": 3
   },
   "file_extension": ".py",
   "mimetype": "text/x-python",
   "name": "python",
   "nbconvert_exporter": "python",
   "pygments_lexer": "ipython3",
   "version": "3.7.3"
  }
 },
 "nbformat": 4,
 "nbformat_minor": 2
}
