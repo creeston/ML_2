{
 "cells": [
  {
   "cell_type": "code",
   "execution_count": 1,
   "metadata": {},
   "outputs": [],
   "source": [
    "import tensorflow as tf\n",
    "import matplotlib.pyplot as plt\n",
    "import random\n",
    "import os\n",
    "import numpy as np\n",
    "import zipfile\n",
    "import os\n",
    "import tarfile\n",
    "\n",
    "from scipy import ndimage\n",
    "from tensorflow.keras import regularizers\n",
    "from urllib.request import urlretrieve\n",
    "from scipy.io import loadmat\n",
    "from __future__ import absolute_import, division, print_function, unicode_literals\n",
    "\n",
    "tf.keras.backend.set_floatx('float64')"
   ]
  },
  {
   "cell_type": "code",
   "execution_count": null,
   "metadata": {},
   "outputs": [],
   "source": [
    "def download_file(url, path):\n",
    "    print(\"Downloading from %s\" % url)\n",
    "    zip_path = path + \".zip\"\n",
    "    urlretrieve(url, zip_path)\n",
    "    tar = tarfile.open(zip_path, \"r:gz\")\n",
    "    tar.extractall()\n",
    "    tar.close()\n",
    "    os.remove(zip_path)    "
   ]
  },
  {
   "cell_type": "code",
   "execution_count": null,
   "metadata": {},
   "outputs": [],
   "source": [
    "download_file(\"https://ai.stanford.edu/~amaas/data/sentiment/aclImdb_v1.tar.gz\", \"imdb\")"
   ]
  },
  {
   "cell_type": "code",
   "execution_count": 2,
   "metadata": {},
   "outputs": [],
   "source": [
    "dir_name = \"aclImdb/\""
   ]
  },
  {
   "cell_type": "code",
   "execution_count": 3,
   "metadata": {},
   "outputs": [],
   "source": [
    "from collections import defaultdict\n",
    "\n",
    "idx2word = [\"<UNK>\", \"<PAD>\"]\n",
    "word2idx = defaultdict(lambda: 0)\n",
    "word2idx[\"<UNK>\"] = 0\n",
    "word2idx[\"<PAD>\"] = 1\n",
    "with open(dir_name + \"imdb.vocab\", encoding=\"utf-8\") as f:\n",
    "    for word in f:\n",
    "        word = word.strip()\n",
    "        idx2word.append(word)\n",
    "        word2idx[word] = len(idx2word) - 2"
   ]
  },
  {
   "cell_type": "code",
   "execution_count": 4,
   "metadata": {},
   "outputs": [],
   "source": [
    "import random\n",
    "\n",
    "raw_train_data = []\n",
    "raw_test_data = []\n",
    "\n",
    "for filename in os.listdir(dir_name + \"train/neg\"):\n",
    "    with open(dir_name + \"train/neg/\" + filename, encoding=\"utf-8\") as f:\n",
    "        raw_train_data.append((f.read(), 0))\n",
    "\n",
    "for filename in os.listdir(dir_name + \"train/pos\"):\n",
    "    with open(dir_name + \"train/pos/\" + filename, encoding=\"utf-8\") as f:\n",
    "        raw_train_data.append((f.read(), 1))\n",
    "        \n",
    "for filename in os.listdir(dir_name + \"test/neg\"):\n",
    "    with open(dir_name + \"test/neg/\" + filename, encoding=\"utf-8\") as f:\n",
    "        raw_test_data.append((f.read(), 0))\n",
    "\n",
    "for filename in os.listdir(dir_name + \"test/pos\"):\n",
    "    with open(dir_name + \"test/pos/\" + filename, encoding=\"utf-8\") as f:\n",
    "        raw_test_data.append((f.read(), 1))\n",
    "        \n",
    "random.shuffle(raw_test_data)\n",
    "random.shuffle(raw_train_data)\n",
    "\n",
    "train_len = len(raw_train_data)\n",
    "val_len = int(train_len * 0.05)\n",
    "raw_val_data = raw_train_data[:val_len]\n",
    "raw_train_data = raw_train_data[val_len:]"
   ]
  },
  {
   "cell_type": "code",
   "execution_count": null,
   "metadata": {},
   "outputs": [],
   "source": [
    "bpe_model = \"bpe_model\"\n",
    "urlretrieve(\"https://nlp.h-its.org/bpemb/en/en.wiki.bpe.vs200000.model\", bpe_model)"
   ]
  },
  {
   "cell_type": "code",
   "execution_count": 5,
   "metadata": {},
   "outputs": [],
   "source": [
    "from bpemb import BPEmb\n",
    "bpemb_en = BPEmb(lang=\"en\", vs=200000)"
   ]
  },
  {
   "cell_type": "code",
   "execution_count": 6,
   "metadata": {},
   "outputs": [],
   "source": [
    "import re\n",
    "from nltk.tokenize import sent_tokenize, word_tokenize\n",
    "import nltk\n",
    "from nltk.corpus import stopwords\n",
    "\n",
    "english_stopwords = set(stopwords.words('english'))\n",
    "    \n",
    "cleanr = re.compile('<.*?>')\n",
    "\n",
    "def preprocess(text):\n",
    "    cleantext = re.sub(cleanr, '', text)\n",
    "    return cleantext\n",
    "\n",
    "def tokenize_bpe(text):\n",
    "    text = preprocess(text)\n",
    "    tokens = [t.replace(\"▁\", \"\") for t in bpemb_en.encode(text)]\n",
    "    tokens = [t for t in tokens if any(c.isalpha() for c in t) and t not in english_stopwords]\n",
    "    \n",
    "    return tokens\n",
    "\n",
    "def tokenize(text):\n",
    "    text = preprocess(text)\n",
    "    tokens = [t.lower() for t in word_tokenize(text)]\n",
    "    tokens = [t for t in tokens if any(c.isalpha() for c in t) and t not in english_stopwords]\n",
    "    return tokens"
   ]
  },
  {
   "cell_type": "code",
   "execution_count": 7,
   "metadata": {},
   "outputs": [],
   "source": [
    "train_data = [(tokenize_bpe(t), label) for t, label in raw_train_data]\n",
    "val_data = [(tokenize_bpe(t), label) for t, label in raw_val_data]\n",
    "test_data = [(tokenize_bpe(t), label) for t, label in raw_test_data]"
   ]
  },
  {
   "cell_type": "code",
   "execution_count": 8,
   "metadata": {},
   "outputs": [],
   "source": [
    "lengths = [len(t[0]) for t in test_data] + [len(t[0]) for t in val_data] + [len(t[0]) for t in train_data]"
   ]
  },
  {
   "cell_type": "code",
   "execution_count": 9,
   "metadata": {},
   "outputs": [
    {
     "data": {
      "text/plain": [
       "(array([2.4710e+03, 8.3140e+03, 1.4486e+04, 7.8260e+03, 4.7430e+03,\n",
       "        3.2160e+03, 2.2520e+03, 1.5870e+03, 1.2210e+03, 9.7100e+02,\n",
       "        6.6200e+02, 4.7900e+02, 4.2700e+02, 3.4000e+02, 2.7000e+02,\n",
       "        2.1200e+02, 1.7900e+02, 1.5500e+02, 9.0000e+01, 4.8000e+01,\n",
       "        2.5000e+01, 7.0000e+00, 0.0000e+00, 3.0000e+00, 3.0000e+00,\n",
       "        1.0000e+00, 1.0000e+00, 1.0000e+00, 2.0000e+00, 0.0000e+00,\n",
       "        1.0000e+00, 0.0000e+00, 2.0000e+00, 1.0000e+00, 0.0000e+00,\n",
       "        0.0000e+00, 0.0000e+00, 1.0000e+00, 0.0000e+00, 0.0000e+00,\n",
       "        1.0000e+00, 1.0000e+00, 0.0000e+00, 0.0000e+00, 0.0000e+00,\n",
       "        0.0000e+00, 0.0000e+00, 0.0000e+00, 0.0000e+00, 1.0000e+00]),\n",
       " array([   3.  ,   32.22,   61.44,   90.66,  119.88,  149.1 ,  178.32,\n",
       "         207.54,  236.76,  265.98,  295.2 ,  324.42,  353.64,  382.86,\n",
       "         412.08,  441.3 ,  470.52,  499.74,  528.96,  558.18,  587.4 ,\n",
       "         616.62,  645.84,  675.06,  704.28,  733.5 ,  762.72,  791.94,\n",
       "         821.16,  850.38,  879.6 ,  908.82,  938.04,  967.26,  996.48,\n",
       "        1025.7 , 1054.92, 1084.14, 1113.36, 1142.58, 1171.8 , 1201.02,\n",
       "        1230.24, 1259.46, 1288.68, 1317.9 , 1347.12, 1376.34, 1405.56,\n",
       "        1434.78, 1464.  ]),\n",
       " <a list of 50 Patch objects>)"
      ]
     },
     "execution_count": 9,
     "metadata": {},
     "output_type": "execute_result"
    },
    {
     "data": {
      "image/png": "[encoded data removed]",
      "text/plain": [
       "<Figure size 432x288 with 1 Axes>"
      ]
     },
     "metadata": {
      "needs_background": "light"
     },
     "output_type": "display_data"
    }
   ],
   "source": [
    "import matplotlib.pyplot as plt\n",
    "\n",
    "plt.hist(lengths, bins = 50)"
   ]
  },
  {
   "cell_type": "code",
   "execution_count": null,
   "metadata": {},
   "outputs": [],
   "source": [
    "max_length = 500"
   ]
  },
  {
   "cell_type": "code",
   "execution_count": null,
   "metadata": {},
   "outputs": [],
   "source": [
    "def pad_data(tokens, max_length):\n",
    "    res = []\n",
    "    for word in tokens:\n",
    "        idx = word2idx[word]\n",
    "        res.append(idx)\n",
    "    pad_idx = word2idx[\"<PAD>\"]\n",
    "    if len(res) < max_length:\n",
    "        res.extend([pad_idx] * (max_length - len(res)))\n",
    "    else:\n",
    "        return np.array(res[:max_length])\n",
    "    return np.array(res)"
   ]
  },
  {
   "cell_type": "code",
   "execution_count": null,
   "metadata": {},
   "outputs": [],
   "source": [
    "train_data = [(pad_data(t, max_length), label) for t, label in train_data]\n",
    "val_data = [(pad_data(t, max_length), label) for t, label in val_data]\n",
    "test_data = [(pad_data(t, max_length), label) for t, label in test_data]"
   ]
  },
  {
   "cell_type": "code",
   "execution_count": null,
   "metadata": {},
   "outputs": [],
   "source": [
    "x_train = np.array([t[0] for t in train_data])\n",
    "y_train = np.array([t[1] for t in train_data])\n",
    "\n",
    "x_val = np.array([t[0] for t in val_data])\n",
    "y_val = np.array([t[1] for t in val_data])\n",
    "\n",
    "x_test = np.array([t[0] for t in test_data])\n",
    "y_test = np.array([t[1] for t in test_data])"
   ]
  },
  {
   "cell_type": "code",
   "execution_count": null,
   "metadata": {},
   "outputs": [],
   "source": [
    "from tensorflow.keras import Model, Input, Sequential\n",
    "from tensorflow.keras.preprocessing.sequence import pad_sequences\n",
    "from tensorflow.keras.layers import LSTM, Embedding, Dense, TimeDistributed, Dropout, Bidirectional, Lambda, Add, InputLayer, concatenate, SpatialDropout1D, Flatten\n",
    "\n",
    "n_words = len(idx2word)\n",
    "embedding_dim = 50\n",
    "batch_size = 32\n",
    "\n",
    "model = Sequential([\n",
    "    tf.keras.layers.Embedding(input_dim=n_words, output_dim=embedding_dim, mask_zero=True),\n",
    "    tf.keras.layers.Bidirectional(LSTM(64)),\n",
    "    tf.keras.layers.Dense(64, activation='relu'),\n",
    "    tf.keras.layers.Dense(1)\n",
    "])\n",
    "\n",
    "model.compile(optimizer='adam',\n",
    "              loss=tf.keras.losses.BinaryCrossentropy(from_logits=True),\n",
    "              metrics=['accuracy'])\n",
    "model.summary()"
   ]
  },
  {
   "cell_type": "code",
   "execution_count": null,
   "metadata": {},
   "outputs": [],
   "source": [
    "history = model.fit(x_train, y_train, validation_data=(x_val, y_val), batch_size=batch_size, epochs=10, verbose=1)"
   ]
  },
  {
   "cell_type": "code",
   "execution_count": null,
   "metadata": {},
   "outputs": [],
   "source": []
  }
 ],
 "metadata": {
  "kernelspec": {
   "display_name": "Python 3.5",
   "language": "python",
   "name": "python3"
  },
  "language_info": {
   "codemirror_mode": {
    "name": "ipython",
    "version": 3
   },
   "file_extension": ".py",
   "mimetype": "text/x-python",
   "name": "python",
   "nbconvert_exporter": "python",
   "pygments_lexer": "ipython3",
   "version": "3.5.6"
  }
 },
 "nbformat": 4,
 "nbformat_minor": 2
}
