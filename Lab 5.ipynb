{
 "cells": [
  {
   "cell_type": "code",
   "execution_count": null,
   "metadata": {},
   "outputs": [],
   "source": [
    "import tensorflow as tf\n",
    "import matplotlib.pyplot as plt\n",
    "import random\n",
    "import os\n",
    "import numpy as np\n",
    "import matplotlib.image as imageio\n",
    "\n",
    "from scipy import ndimage\n",
    "from tensorflow.keras import regularizers\n",
    "from scipy.io import loadmat\n",
    "\n",
    "tf.keras.backend.set_floatx('float32')\n",
    "\n",
    "train_dir = \"train\"\n",
    "val_dir = \"val\"\n",
    "test_dir = \"test\""
   ]
  },
  {
   "cell_type": "markdown",
   "metadata": {},
   "source": [
    "# Download data"
   ]
  },
  {
   "cell_type": "code",
   "execution_count": null,
   "metadata": {},
   "outputs": [],
   "source": [
    "import shutil\n",
    "from urllib.request import urlretrieve\n",
    "import zipfile\n",
    "import os\n",
    "\n",
    "shutil.rmtree(train_dir)\n",
    "shutil.rmtree(val_dir)\n",
    "shutil.rmtree(test_dir)\n",
    "\n",
    "def download_file(url, path):\n",
    "    print(\"Downloading from %s\" % url)\n",
    "    zip_path = path + \".zip\"\n",
    "    urlretrieve(url, zip_path)\n",
    "    with zipfile.ZipFile(zip_path, 'r') as zip_ref:\n",
    "        zip_ref.extractall(\"\")\n",
    "    os.remove(zip_path)  \n",
    "    \n",
    "#download_file(\"https://storage.googleapis.com/kagglesdsdata/competitions/3362/31148/test1.zip?GoogleAccessId=web-data@kaggle-161607.iam.gserviceaccount.com&Expires=1586455286&Signature=oS7Fn9tB7KyNGUL3AYhy%2Bu8v37g4wLyeNEl%2BG5f%2BjX2J4JprknIdxzrnn4dKICgT8XChG%2Bglp2NvV0ZbRSsDrUQ9EjRAnpJW%2BMUGYjtDChu3lJ5zcAae9fwYLmcJ1qmhQgNL4Wl5zx8FHR%2FWf9A%2BJaHwITBSlMcOsV%2F1ISwdnKgUTSGys8XlRrykqHm41lCA1t1%2FBo0OHLc68AEph%2FCFSvKC%2BmHkmytVLKw2j3nwyU2oAvoU91MB7Vvu52PsqzKEjVWkW%2Fn8dUonQApgCBvVQwVGfWXC5uAyAx%2BArUhDptW%2By7DKp7VpqjrjQevknjhxCVMZgRP0%2Fal1MSI8Hkw0KA%3D%3D&response-content-disposition=attachment%3B+filename%3Dtest1.zip\", \"test\")\n",
    "#download_file(\"https://storage.googleapis.com/kagglesdsdata/competitions/3362/31148/train.zip?GoogleAccessId=web-data@kaggle-161607.iam.gserviceaccount.com&Expires=1586723425&Signature=F3w4rcUihV%2F67w7XwAS5e1PTaDmlNZLgUW8OQrDBXpr%2BR8qWi%2BYdsZgxK9Es22PQODjU%2BiwVKA1dxXpFbJYmMRLK095WotTicMGExZVUPA1PFfmDOwsAXpJfSa6clfhS9ai0Q0IfH8%2BGOmy%2F916x1Wy0KhN%2Bppx8fGc0aSCkyQ19iYOHGCk3Ok8tk2UJHviViuaHMnPzxBDAse0v9XhSOkL9ehSBsqKF9tSqocY%2FgXqZ969LHi6ROaI7sV%2B3u6RtqNw3cDwuhUcslsHT9f724nh5EZdoxp%2B0V9Y9YAJikb81k3a%2FaPQkyHKPzVg1Bx7M%2FdhIAmUrvZe%2FFJ3Maq5J8Q%3D%3D&response-content-disposition=attachment%3B+filename%3Dtrain.zip\", \"train\")\n",
    "\n",
    "#os.mkdir(\"test\")\n",
    "#for test_file in os.listdir(\"test1\"):\n",
    "#    os.rename(\"test1/\" + test_file, \"test/\" + test_file)\n",
    "#os.rmdir(\"test1\")\n",
    "\n",
    "\n",
    "os.mkdir(validation_dir)\n",
    "os.mkdir(test_dir)\n",
    "\n",
    "os.mkdir(train_dir + \"/dog\")\n",
    "os.mkdir(train_dir + \"/cat\")\n",
    "\n",
    "os.mkdir(val_dir + \"/dog\")\n",
    "os.mkdir(val_dir + \"/cat\")\n",
    "\n",
    "os.mkdir(test_dir + \"/dog\")\n",
    "os.mkdir(test_dir + \"/cat\")\n",
    "\n",
    "val_size = 1000\n",
    "test_size = 2000\n",
    "\n",
    "image_files = os.listdir(train_dir)\n",
    "random.shuffle(image_files)\n",
    "\n",
    "for i, file in enumerate(image_files):\n",
    "    if \"jpg\" not in file:\n",
    "        continue\n",
    "        \n",
    "    animal, im_id, _ = file.split('.')\n",
    "    if i <= val_size:\n",
    "        subfolder = val_dir\n",
    "    elif i <= val_size + test_size:\n",
    "        subfolder = test_dir\n",
    "    else:\n",
    "        subfolder = train_dir\n",
    "\n",
    "    os.rename(train_dir + \"/\" + file, subfolder + \"/\" + animal + \"/\" + file)"
   ]
  },
  {
   "cell_type": "markdown",
   "metadata": {},
   "source": [
    "# Verify data"
   ]
  },
  {
   "cell_type": "code",
   "execution_count": null,
   "metadata": {},
   "outputs": [],
   "source": [
    "num_cats_tr = len(os.listdir(os.path.join(train_dir, 'cat') ))\n",
    "num_dogs_tr = len(os.listdir(os.path.join(train_dir, 'dog')))\n",
    "\n",
    "num_cats_val = len(os.listdir(os.path.join(val_dir, 'cat') ))\n",
    "num_dogs_val = len(os.listdir(os.path.join(val_dir, 'dog') ))\n",
    "\n",
    "num_cats_test = len(os.listdir(os.path.join(test_dir, 'cat')))\n",
    "num_dogs_test = len(os.listdir(os.path.join(test_dir, 'dog')))\n",
    "\n",
    "\n",
    "total_train = num_cats_tr + num_dogs_tr\n",
    "total_val = num_cats_val + num_dogs_val\n",
    "total_test = num_dogs_test + num_cats_test\n",
    "\n",
    "print('total training cat images:', num_cats_tr)\n",
    "print('total training dog images:', num_dogs_tr)\n",
    "print(\"--\")\n",
    "print('total validation cat images:', num_cats_val)\n",
    "print('total validation dog images:', num_dogs_val)\n",
    "print(\"--\")\n",
    "print('total test cat images:', num_cats_test)\n",
    "print('total test dog images:', num_dogs_test)\n",
    "print(\"--\")\n",
    "print(\"Total training images:\", total_train)\n",
    "print(\"Total validation images:\", total_val)\n",
    "print(\"Total test images:\", total_test)\n",
    "\n",
    "from tensorflow.keras.preprocessing.image import ImageDataGenerator\n",
    "\n",
    "batch_size = 32 \n",
    "IMG_HEIGHT = 150\n",
    "IMG_WIDTH = 150\n",
    "\n",
    "train_image_generator = ImageDataGenerator(rescale=1./255) \n",
    "val_image_generator = ImageDataGenerator(rescale=1./255)\n",
    "test_image_generator = ImageDataGenerator(rescale=1./255)\n",
    "\n",
    "train_data_gen = train_image_generator.flow_from_directory(\n",
    "    batch_size=batch_size,\n",
    "    directory=train_dir,\n",
    "    shuffle=True,\n",
    "    target_size=(IMG_HEIGHT, IMG_WIDTH),\n",
    "    class_mode='binary')\n",
    "\n",
    "val_data_gen = val_image_generator.flow_from_directory(\n",
    "    batch_size=batch_size,\n",
    "    directory=val_dir,\n",
    "    shuffle=True,\n",
    "    target_size=(IMG_HEIGHT, IMG_WIDTH),\n",
    "    class_mode='binary')\n",
    "\n",
    "test_data_gen = val_image_generator.flow_from_directory(\n",
    "    batch_size=batch_size,\n",
    "    directory=test_dir,\n",
    "    shuffle=True,\n",
    "    target_size=(IMG_HEIGHT, IMG_WIDTH),\n",
    "    class_mode='binary')\n",
    "\n",
    "def plot_images(images):\n",
    "    fig, axes = plt.subplots(1, 5, figsize=(20,20))\n",
    "    axes = axes.flatten()\n",
    "    for img, ax in zip(images, axes):\n",
    "        ax.imshow(img)\n",
    "        ax.axis('off')\n",
    "    plt.tight_layout()\n",
    "    plt.show()\n",
    "    \n",
    "sample_training_images, _ = next(train_data_gen)\n",
    "plot_images(sample_training_images[:5])"
   ]
  },
  {
   "cell_type": "markdown",
   "metadata": {},
   "source": [
    "# Simple classification model"
   ]
  },
  {
   "cell_type": "code",
   "execution_count": null,
   "metadata": {},
   "outputs": [],
   "source": [
    "from tensorflow.keras.models import Sequential\n",
    "from tensorflow.keras.layers import Dense, Conv2D, Flatten, Dropout, MaxPooling2D\n",
    "\n",
    "model = Sequential([\n",
    "    Conv2D(32, 3, activation='relu', input_shape=(IMG_HEIGHT, IMG_WIDTH ,3)),\n",
    "    MaxPooling2D((2, 2)),\n",
    "    \n",
    "    Conv2D(64, 3, activation='relu'),\n",
    "    MaxPooling2D((2, 2)),\n",
    "    \n",
    "    Conv2D(64, 3, activation='relu'),\n",
    "    MaxPooling2D((2, 2)),\n",
    "    \n",
    "    Flatten(),\n",
    "    Dense(256, activation='relu'),\n",
    "    Dense(256, activation='relu'),\n",
    "    Dense(1, activation='sigmoid')\n",
    "])\n",
    "\n",
    "model.compile(optimizer='rmsprop',\n",
    "              loss='binary_crossentropy',\n",
    "              metrics=['accuracy'])\n",
    "\n",
    "model.summary()"
   ]
  },
  {
   "cell_type": "code",
   "execution_count": null,
   "metadata": {},
   "outputs": [],
   "source": [
    "history = model.fit_generator(\n",
    "    train_data_gen,\n",
    "    steps_per_epoch=150,\n",
    "    epochs=10,\n",
    "    validation_data=val_data_gen,\n",
    "    validation_steps=50,\n",
    "    verbose=1)"
   ]
  },
  {
   "cell_type": "code",
   "execution_count": null,
   "metadata": {},
   "outputs": [],
   "source": [
    "acc = history.history['accuracy']\n",
    "val_acc = history.history['val_accuracy']\n",
    "\n",
    "loss=history.history['loss']\n",
    "val_loss=history.history['val_loss']\n",
    "\n",
    "epochs_range = range(3)\n",
    "\n",
    "plt.figure(figsize=(8, 8))\n",
    "plt.subplot(1, 2, 1)\n",
    "plt.plot(epochs_range, acc, label='Training Accuracy')\n",
    "plt.plot(epochs_range, val_acc, label='Validation Accuracy')\n",
    "plt.legend(loc='lower right')\n",
    "plt.title('Training and Validation Accuracy')\n",
    "\n",
    "plt.subplot(1, 2, 2)\n",
    "plt.plot(epochs_range, loss, label='Training Loss')\n",
    "plt.plot(epochs_range, val_loss, label='Validation Loss')\n",
    "plt.legend(loc='upper right')\n",
    "plt.title('Training and Validation Loss')\n",
    "plt.show()"
   ]
  },
  {
   "cell_type": "code",
   "execution_count": null,
   "metadata": {},
   "outputs": [],
   "source": [
    "import imageio\n",
    "\n",
    "test_results = []\n",
    "for image_name in os.listdir(test_dir):\n",
    "    image_id, _ = image_name.split('.')\n",
    "    image = imageio.imread(test_dir + \"/\" + image_name)\n",
    "    image = tf.image.resize(image, (IMG_HEIGHT, IMG_WIDTH)) / 255\n",
    "    prediction = model.predict(np.array([image]))[0][0]\n",
    "    if prediction > 0:\n",
    "        test_results.append((image_id, 1))\n",
    "    else:\n",
    "        test_results.append((image_id, 0))"
   ]
  },
  {
   "cell_type": "markdown",
   "metadata": {},
   "source": [
    "# Image augmentation"
   ]
  },
  {
   "cell_type": "code",
   "execution_count": null,
   "metadata": {},
   "outputs": [],
   "source": [
    "image_gen_train = ImageDataGenerator(\n",
    "      rescale=1./255,\n",
    "      rotation_range=40,\n",
    "      width_shift_range=0.2,\n",
    "      height_shift_range=0.2,\n",
    "      shear_range=0.2,\n",
    "      zoom_range=0.2,\n",
    "      horizontal_flip=True,\n",
    "      fill_mode='nearest')\n",
    "\n",
    "train_data_gen = image_gen_train.flow_from_directory(batch_size=BATCH_SIZE, \n",
    "                                                     directory=train_dir, \n",
    "                                                     shuffle=True, \n",
    "                                                     target_size=(IMG_SHAPE,IMG_SHAPE),\n",
    "                                                     class_mode='binary')\n",
    "\n",
    "image_gen_val = ImageDataGenerator(rescale=1./255)\n",
    "\n",
    "val_data_gen = image_gen_val.flow_from_directory(batch_size=BATCH_SIZE, \n",
    "                                                 directory=validation_dir, \n",
    "                                                 target_size=(IMG_SHAPE, IMG_SHAPE),\n",
    "                                                 class_mode='binary')"
   ]
  },
  {
   "cell_type": "code",
   "execution_count": null,
   "metadata": {},
   "outputs": [],
   "source": [
    "model = tf.keras.models.Sequential([\n",
    "    tf.keras.layers.Conv2D(32, (3,3), activation='relu', input_shape=(150, 150, 3)),\n",
    "    tf.keras.layers.MaxPooling2D(2, 2),\n",
    "\n",
    "    tf.keras.layers.Conv2D(64, (3,3), activation='relu'),\n",
    "    tf.keras.layers.MaxPooling2D(2,2),\n",
    "\n",
    "    tf.keras.layers.Conv2D(128, (3,3), activation='relu'),\n",
    "    tf.keras.layers.MaxPooling2D(2,2),\n",
    "\n",
    "    tf.keras.layers.Conv2D(128, (3,3), activation='relu'),\n",
    "    tf.keras.layers.MaxPooling2D(2,2),\n",
    "\n",
    "    tf.keras.layers.Dropout(0.5),\n",
    "    tf.keras.layers.Flatten(),\n",
    "    tf.keras.layers.Dense(512, activation='relu'),\n",
    "    tf.keras.layers.Dense(2, activation='softmax')\n",
    "])\n",
    "\n",
    "model.compile(optimizer='adam', \n",
    "              loss='sparse_categorical_crossentropy',\n",
    "              metrics=['accuracy'])"
   ]
  },
  {
   "cell_type": "code",
   "execution_count": null,
   "metadata": {},
   "outputs": [],
   "source": [
    "history = model.fit_generator(train_data_gen,\n",
    "                   steps_per_epoch=10,\n",
    "                   epochs=50,\n",
    "                   validation_data=val_data_gen,\n",
    "                   validation_steps=10,\n",
    "                   verbose=1)"
   ]
  },
  {
   "cell_type": "markdown",
   "metadata": {},
   "source": [
    "# Existing networks"
   ]
  },
  {
   "cell_type": "code",
   "execution_count": null,
   "metadata": {},
   "outputs": [],
   "source": [
    "inception_base = tf.keras.applications.inception_v3.InceptionV3(weights='imagenet', include_top=False)\n",
    "\n",
    "x = inception_base.output\n",
    "x = tf.keras.layers.GlobalAveragePooling2D()(x)\n",
    "x = tf.keras.layers.Dense(1024, activation='relu')(x)\n",
    "x = tf.keras.layers.Dense(1024, activation='relu')(x)\n",
    "x = tf.keras.layers.Dense(512, activation='relu')(x)\n",
    "preds = tf.keras.layers.Dense(120, activation='softmax')(x)\n",
    "\n",
    "inception_model=tf.keras.Model(inputs=inception_base.input, outputs=preds)"
   ]
  },
  {
   "cell_type": "code",
   "execution_count": null,
   "metadata": {},
   "outputs": [],
   "source": [
    "inception_model.compile(optimizer='adam', \n",
    "              loss='sparse_categorical_crossentropy',\n",
    "              metrics=['accuracy'])"
   ]
  },
  {
   "cell_type": "code",
   "execution_count": null,
   "metadata": {},
   "outputs": [],
   "source": [
    "history = inception_model.fit_generator(train_data_gen,\n",
    "                   steps_per_epoch=50,\n",
    "                   epochs=20,\n",
    "                   validation_data=val_data_gen,\n",
    "                   validation_steps=10,\n",
    "                   verbose=1)"
   ]
  },
  {
   "cell_type": "code",
   "execution_count": null,
   "metadata": {},
   "outputs": [],
   "source": [
    "score, acc = inception_model.evaluate_generator(test_data_gen, steps=20)\n",
    "print('Test inception model accuracy:', acc)"
   ]
  }
 ],
 "metadata": {
  "kernelspec": {
   "display_name": "Python 3.5",
   "language": "python",
   "name": "python3"
  },
  "language_info": {
   "codemirror_mode": {
    "name": "ipython",
    "version": 3
   },
   "file_extension": ".py",
   "mimetype": "text/x-python",
   "name": "python",
   "nbconvert_exporter": "python",
   "pygments_lexer": "ipython3",
   "version": "3.5.6"
  }
 },
 "nbformat": 4,
 "nbformat_minor": 2
}
