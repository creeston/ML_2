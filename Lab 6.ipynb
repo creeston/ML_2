{
 "cells": [
  {
   "cell_type": "code",
   "execution_count": 1,
   "metadata": {},
   "outputs": [],
   "source": [
    "import os\n",
    "import numpy as np\n",
    "import matplotlib.pyplot as plt\n",
    "import random\n",
    "import tensorflow as tf\n",
    "\n",
    "from tensorflow.keras import layers, Model, Input, Sequential\n",
    "from tensorflow.keras.layers import Dense, Dropout, Conv2D, Flatten, AveragePooling2D, MaxPooling2D"
   ]
  },
  {
   "cell_type": "markdown",
   "metadata": {},
   "source": [
    "# Download data"
   ]
  },
  {
   "cell_type": "code",
   "execution_count": 2,
   "metadata": {
    "collapsed": true
   },
   "outputs": [
    {
     "name": "stdout",
     "output_type": "stream",
     "text": [
      "Downloading from https://storage.googleapis.com/kaggle-data-sets/3258/5337/bundle/archive.zip?GoogleAccessId=web-data@kaggle-161607.iam.gserviceaccount.com&Expires=1586457678&Signature=Fpk8Z%2BNCFNBkVKBztZZR5QHgmGBdfjXb6g3f8SWjGz8bXPgdh3jqslYfZ3EorgG6SvMcZ17OlGQ8zkrzWbGkN0Va5cHRVq5LYfDrJBw2rIbmaw3S4TUFR6XZTgwjmfIrD69G6w7Q1US4SydNmKb42Duf7pbP51VrK3RTPBHqowBvvM5wzQpkmDd6UMkIxKVltsZRtV%2F8SLuQKz%2BtUXP5dc88vXUU1M3REQ2NuFjrOakd3%2BINEzPnIDbIbpdedD4hFe95zBjNiMURqW4a8u4FplVVw9xI4ugdqOukzKC6pXnBetlgy5R0eyUJP2Udf63tp0s6NN%2FjOp8Clf5P9yOe%2FQ%3D%3D&response-content-disposition=attachment%3B+filename%3Dsign-language-mnist.zip\n"
     ]
    },
    {
     "ename": "HTTPError",
     "evalue": "HTTP Error 400: Bad Request",
     "output_type": "error",
     "traceback": [
      "\u001b[1;31m---------------------------------------------------------------------------\u001b[0m",
      "\u001b[1;31mHTTPError\u001b[0m                                 Traceback (most recent call last)",
      "\u001b[1;32m<ipython-input-2-79a5ea89b295>\u001b[0m in \u001b[0;36m<module>\u001b[1;34m\u001b[0m\n\u001b[0;32m     11\u001b[0m \u001b[1;33m\u001b[0m\u001b[0m\n\u001b[0;32m     12\u001b[0m \u001b[0murl\u001b[0m \u001b[1;33m=\u001b[0m \u001b[1;34m\"https://storage.googleapis.com/kaggle-data-sets/3258/5337/bundle/archive.zip?GoogleAccessId=web-data@kaggle-161607.iam.gserviceaccount.com&Expires=1586457678&Signature=Fpk8Z%2BNCFNBkVKBztZZR5QHgmGBdfjXb6g3f8SWjGz8bXPgdh3jqslYfZ3EorgG6SvMcZ17OlGQ8zkrzWbGkN0Va5cHRVq5LYfDrJBw2rIbmaw3S4TUFR6XZTgwjmfIrD69G6w7Q1US4SydNmKb42Duf7pbP51VrK3RTPBHqowBvvM5wzQpkmDd6UMkIxKVltsZRtV%2F8SLuQKz%2BtUXP5dc88vXUU1M3REQ2NuFjrOakd3%2BINEzPnIDbIbpdedD4hFe95zBjNiMURqW4a8u4FplVVw9xI4ugdqOukzKC6pXnBetlgy5R0eyUJP2Udf63tp0s6NN%2FjOp8Clf5P9yOe%2FQ%3D%3D&response-content-disposition=attachment%3B+filename%3Dsign-language-mnist.zip\"\u001b[0m\u001b[1;33m\u001b[0m\u001b[1;33m\u001b[0m\u001b[0m\n\u001b[1;32m---> 13\u001b[1;33m \u001b[0mdownload_file\u001b[0m\u001b[1;33m(\u001b[0m\u001b[0murl\u001b[0m\u001b[1;33m,\u001b[0m \u001b[1;34m\"sign-mnist\"\u001b[0m\u001b[1;33m)\u001b[0m\u001b[1;33m\u001b[0m\u001b[1;33m\u001b[0m\u001b[0m\n\u001b[0m",
      "\u001b[1;32m<ipython-input-2-79a5ea89b295>\u001b[0m in \u001b[0;36mdownload_file\u001b[1;34m(url, path)\u001b[0m\n\u001b[0;32m      5\u001b[0m     \u001b[0mprint\u001b[0m\u001b[1;33m(\u001b[0m\u001b[1;34m\"Downloading from %s\"\u001b[0m \u001b[1;33m%\u001b[0m \u001b[0murl\u001b[0m\u001b[1;33m)\u001b[0m\u001b[1;33m\u001b[0m\u001b[1;33m\u001b[0m\u001b[0m\n\u001b[0;32m      6\u001b[0m     \u001b[0mzip_path\u001b[0m \u001b[1;33m=\u001b[0m \u001b[0mpath\u001b[0m \u001b[1;33m+\u001b[0m \u001b[1;34m\".zip\"\u001b[0m\u001b[1;33m\u001b[0m\u001b[1;33m\u001b[0m\u001b[0m\n\u001b[1;32m----> 7\u001b[1;33m     \u001b[0murlretrieve\u001b[0m\u001b[1;33m(\u001b[0m\u001b[0murl\u001b[0m\u001b[1;33m,\u001b[0m \u001b[0mzip_path\u001b[0m\u001b[1;33m)\u001b[0m\u001b[1;33m\u001b[0m\u001b[1;33m\u001b[0m\u001b[0m\n\u001b[0m\u001b[0;32m      8\u001b[0m     \u001b[1;32mwith\u001b[0m \u001b[0mzipfile\u001b[0m\u001b[1;33m.\u001b[0m\u001b[0mZipFile\u001b[0m\u001b[1;33m(\u001b[0m\u001b[0mzip_path\u001b[0m\u001b[1;33m,\u001b[0m \u001b[1;34m'r'\u001b[0m\u001b[1;33m)\u001b[0m \u001b[1;32mas\u001b[0m \u001b[0mzip_ref\u001b[0m\u001b[1;33m:\u001b[0m\u001b[1;33m\u001b[0m\u001b[1;33m\u001b[0m\u001b[0m\n\u001b[0;32m      9\u001b[0m         \u001b[0mzip_ref\u001b[0m\u001b[1;33m.\u001b[0m\u001b[0mextractall\u001b[0m\u001b[1;33m(\u001b[0m\u001b[1;34m\"\"\u001b[0m\u001b[1;33m)\u001b[0m\u001b[1;33m\u001b[0m\u001b[1;33m\u001b[0m\u001b[0m\n",
      "\u001b[1;32mc:\\users\\r.cherny\\appdata\\local\\programs\\python\\python37\\lib\\urllib\\request.py\u001b[0m in \u001b[0;36murlretrieve\u001b[1;34m(url, filename, reporthook, data)\u001b[0m\n\u001b[0;32m    245\u001b[0m     \u001b[0murl_type\u001b[0m\u001b[1;33m,\u001b[0m \u001b[0mpath\u001b[0m \u001b[1;33m=\u001b[0m \u001b[0msplittype\u001b[0m\u001b[1;33m(\u001b[0m\u001b[0murl\u001b[0m\u001b[1;33m)\u001b[0m\u001b[1;33m\u001b[0m\u001b[1;33m\u001b[0m\u001b[0m\n\u001b[0;32m    246\u001b[0m \u001b[1;33m\u001b[0m\u001b[0m\n\u001b[1;32m--> 247\u001b[1;33m     \u001b[1;32mwith\u001b[0m \u001b[0mcontextlib\u001b[0m\u001b[1;33m.\u001b[0m\u001b[0mclosing\u001b[0m\u001b[1;33m(\u001b[0m\u001b[0murlopen\u001b[0m\u001b[1;33m(\u001b[0m\u001b[0murl\u001b[0m\u001b[1;33m,\u001b[0m \u001b[0mdata\u001b[0m\u001b[1;33m)\u001b[0m\u001b[1;33m)\u001b[0m \u001b[1;32mas\u001b[0m \u001b[0mfp\u001b[0m\u001b[1;33m:\u001b[0m\u001b[1;33m\u001b[0m\u001b[1;33m\u001b[0m\u001b[0m\n\u001b[0m\u001b[0;32m    248\u001b[0m         \u001b[0mheaders\u001b[0m \u001b[1;33m=\u001b[0m \u001b[0mfp\u001b[0m\u001b[1;33m.\u001b[0m\u001b[0minfo\u001b[0m\u001b[1;33m(\u001b[0m\u001b[1;33m)\u001b[0m\u001b[1;33m\u001b[0m\u001b[1;33m\u001b[0m\u001b[0m\n\u001b[0;32m    249\u001b[0m \u001b[1;33m\u001b[0m\u001b[0m\n",
      "\u001b[1;32mc:\\users\\r.cherny\\appdata\\local\\programs\\python\\python37\\lib\\urllib\\request.py\u001b[0m in \u001b[0;36murlopen\u001b[1;34m(url, data, timeout, cafile, capath, cadefault, context)\u001b[0m\n\u001b[0;32m    220\u001b[0m     \u001b[1;32melse\u001b[0m\u001b[1;33m:\u001b[0m\u001b[1;33m\u001b[0m\u001b[1;33m\u001b[0m\u001b[0m\n\u001b[0;32m    221\u001b[0m         \u001b[0mopener\u001b[0m \u001b[1;33m=\u001b[0m \u001b[0m_opener\u001b[0m\u001b[1;33m\u001b[0m\u001b[1;33m\u001b[0m\u001b[0m\n\u001b[1;32m--> 222\u001b[1;33m     \u001b[1;32mreturn\u001b[0m \u001b[0mopener\u001b[0m\u001b[1;33m.\u001b[0m\u001b[0mopen\u001b[0m\u001b[1;33m(\u001b[0m\u001b[0murl\u001b[0m\u001b[1;33m,\u001b[0m \u001b[0mdata\u001b[0m\u001b[1;33m,\u001b[0m \u001b[0mtimeout\u001b[0m\u001b[1;33m)\u001b[0m\u001b[1;33m\u001b[0m\u001b[1;33m\u001b[0m\u001b[0m\n\u001b[0m\u001b[0;32m    223\u001b[0m \u001b[1;33m\u001b[0m\u001b[0m\n\u001b[0;32m    224\u001b[0m \u001b[1;32mdef\u001b[0m \u001b[0minstall_opener\u001b[0m\u001b[1;33m(\u001b[0m\u001b[0mopener\u001b[0m\u001b[1;33m)\u001b[0m\u001b[1;33m:\u001b[0m\u001b[1;33m\u001b[0m\u001b[1;33m\u001b[0m\u001b[0m\n",
      "\u001b[1;32mc:\\users\\r.cherny\\appdata\\local\\programs\\python\\python37\\lib\\urllib\\request.py\u001b[0m in \u001b[0;36mopen\u001b[1;34m(self, fullurl, data, timeout)\u001b[0m\n\u001b[0;32m    529\u001b[0m         \u001b[1;32mfor\u001b[0m \u001b[0mprocessor\u001b[0m \u001b[1;32min\u001b[0m \u001b[0mself\u001b[0m\u001b[1;33m.\u001b[0m\u001b[0mprocess_response\u001b[0m\u001b[1;33m.\u001b[0m\u001b[0mget\u001b[0m\u001b[1;33m(\u001b[0m\u001b[0mprotocol\u001b[0m\u001b[1;33m,\u001b[0m \u001b[1;33m[\u001b[0m\u001b[1;33m]\u001b[0m\u001b[1;33m)\u001b[0m\u001b[1;33m:\u001b[0m\u001b[1;33m\u001b[0m\u001b[1;33m\u001b[0m\u001b[0m\n\u001b[0;32m    530\u001b[0m             \u001b[0mmeth\u001b[0m \u001b[1;33m=\u001b[0m \u001b[0mgetattr\u001b[0m\u001b[1;33m(\u001b[0m\u001b[0mprocessor\u001b[0m\u001b[1;33m,\u001b[0m \u001b[0mmeth_name\u001b[0m\u001b[1;33m)\u001b[0m\u001b[1;33m\u001b[0m\u001b[1;33m\u001b[0m\u001b[0m\n\u001b[1;32m--> 531\u001b[1;33m             \u001b[0mresponse\u001b[0m \u001b[1;33m=\u001b[0m \u001b[0mmeth\u001b[0m\u001b[1;33m(\u001b[0m\u001b[0mreq\u001b[0m\u001b[1;33m,\u001b[0m \u001b[0mresponse\u001b[0m\u001b[1;33m)\u001b[0m\u001b[1;33m\u001b[0m\u001b[1;33m\u001b[0m\u001b[0m\n\u001b[0m\u001b[0;32m    532\u001b[0m \u001b[1;33m\u001b[0m\u001b[0m\n\u001b[0;32m    533\u001b[0m         \u001b[1;32mreturn\u001b[0m \u001b[0mresponse\u001b[0m\u001b[1;33m\u001b[0m\u001b[1;33m\u001b[0m\u001b[0m\n",
      "\u001b[1;32mc:\\users\\r.cherny\\appdata\\local\\programs\\python\\python37\\lib\\urllib\\request.py\u001b[0m in \u001b[0;36mhttp_response\u001b[1;34m(self, request, response)\u001b[0m\n\u001b[0;32m    639\u001b[0m         \u001b[1;32mif\u001b[0m \u001b[1;32mnot\u001b[0m \u001b[1;33m(\u001b[0m\u001b[1;36m200\u001b[0m \u001b[1;33m<=\u001b[0m \u001b[0mcode\u001b[0m \u001b[1;33m<\u001b[0m \u001b[1;36m300\u001b[0m\u001b[1;33m)\u001b[0m\u001b[1;33m:\u001b[0m\u001b[1;33m\u001b[0m\u001b[1;33m\u001b[0m\u001b[0m\n\u001b[0;32m    640\u001b[0m             response = self.parent.error(\n\u001b[1;32m--> 641\u001b[1;33m                 'http', request, response, code, msg, hdrs)\n\u001b[0m\u001b[0;32m    642\u001b[0m \u001b[1;33m\u001b[0m\u001b[0m\n\u001b[0;32m    643\u001b[0m         \u001b[1;32mreturn\u001b[0m \u001b[0mresponse\u001b[0m\u001b[1;33m\u001b[0m\u001b[1;33m\u001b[0m\u001b[0m\n",
      "\u001b[1;32mc:\\users\\r.cherny\\appdata\\local\\programs\\python\\python37\\lib\\urllib\\request.py\u001b[0m in \u001b[0;36merror\u001b[1;34m(self, proto, *args)\u001b[0m\n\u001b[0;32m    567\u001b[0m         \u001b[1;32mif\u001b[0m \u001b[0mhttp_err\u001b[0m\u001b[1;33m:\u001b[0m\u001b[1;33m\u001b[0m\u001b[1;33m\u001b[0m\u001b[0m\n\u001b[0;32m    568\u001b[0m             \u001b[0margs\u001b[0m \u001b[1;33m=\u001b[0m \u001b[1;33m(\u001b[0m\u001b[0mdict\u001b[0m\u001b[1;33m,\u001b[0m \u001b[1;34m'default'\u001b[0m\u001b[1;33m,\u001b[0m \u001b[1;34m'http_error_default'\u001b[0m\u001b[1;33m)\u001b[0m \u001b[1;33m+\u001b[0m \u001b[0morig_args\u001b[0m\u001b[1;33m\u001b[0m\u001b[1;33m\u001b[0m\u001b[0m\n\u001b[1;32m--> 569\u001b[1;33m             \u001b[1;32mreturn\u001b[0m \u001b[0mself\u001b[0m\u001b[1;33m.\u001b[0m\u001b[0m_call_chain\u001b[0m\u001b[1;33m(\u001b[0m\u001b[1;33m*\u001b[0m\u001b[0margs\u001b[0m\u001b[1;33m)\u001b[0m\u001b[1;33m\u001b[0m\u001b[1;33m\u001b[0m\u001b[0m\n\u001b[0m\u001b[0;32m    570\u001b[0m \u001b[1;33m\u001b[0m\u001b[0m\n\u001b[0;32m    571\u001b[0m \u001b[1;31m# XXX probably also want an abstract factory that knows when it makes\u001b[0m\u001b[1;33m\u001b[0m\u001b[1;33m\u001b[0m\u001b[1;33m\u001b[0m\u001b[0m\n",
      "\u001b[1;32mc:\\users\\r.cherny\\appdata\\local\\programs\\python\\python37\\lib\\urllib\\request.py\u001b[0m in \u001b[0;36m_call_chain\u001b[1;34m(self, chain, kind, meth_name, *args)\u001b[0m\n\u001b[0;32m    501\u001b[0m         \u001b[1;32mfor\u001b[0m \u001b[0mhandler\u001b[0m \u001b[1;32min\u001b[0m \u001b[0mhandlers\u001b[0m\u001b[1;33m:\u001b[0m\u001b[1;33m\u001b[0m\u001b[1;33m\u001b[0m\u001b[0m\n\u001b[0;32m    502\u001b[0m             \u001b[0mfunc\u001b[0m \u001b[1;33m=\u001b[0m \u001b[0mgetattr\u001b[0m\u001b[1;33m(\u001b[0m\u001b[0mhandler\u001b[0m\u001b[1;33m,\u001b[0m \u001b[0mmeth_name\u001b[0m\u001b[1;33m)\u001b[0m\u001b[1;33m\u001b[0m\u001b[1;33m\u001b[0m\u001b[0m\n\u001b[1;32m--> 503\u001b[1;33m             \u001b[0mresult\u001b[0m \u001b[1;33m=\u001b[0m \u001b[0mfunc\u001b[0m\u001b[1;33m(\u001b[0m\u001b[1;33m*\u001b[0m\u001b[0margs\u001b[0m\u001b[1;33m)\u001b[0m\u001b[1;33m\u001b[0m\u001b[1;33m\u001b[0m\u001b[0m\n\u001b[0m\u001b[0;32m    504\u001b[0m             \u001b[1;32mif\u001b[0m \u001b[0mresult\u001b[0m \u001b[1;32mis\u001b[0m \u001b[1;32mnot\u001b[0m \u001b[1;32mNone\u001b[0m\u001b[1;33m:\u001b[0m\u001b[1;33m\u001b[0m\u001b[1;33m\u001b[0m\u001b[0m\n\u001b[0;32m    505\u001b[0m                 \u001b[1;32mreturn\u001b[0m \u001b[0mresult\u001b[0m\u001b[1;33m\u001b[0m\u001b[1;33m\u001b[0m\u001b[0m\n",
      "\u001b[1;32mc:\\users\\r.cherny\\appdata\\local\\programs\\python\\python37\\lib\\urllib\\request.py\u001b[0m in \u001b[0;36mhttp_error_default\u001b[1;34m(self, req, fp, code, msg, hdrs)\u001b[0m\n\u001b[0;32m    647\u001b[0m \u001b[1;32mclass\u001b[0m \u001b[0mHTTPDefaultErrorHandler\u001b[0m\u001b[1;33m(\u001b[0m\u001b[0mBaseHandler\u001b[0m\u001b[1;33m)\u001b[0m\u001b[1;33m:\u001b[0m\u001b[1;33m\u001b[0m\u001b[1;33m\u001b[0m\u001b[0m\n\u001b[0;32m    648\u001b[0m     \u001b[1;32mdef\u001b[0m \u001b[0mhttp_error_default\u001b[0m\u001b[1;33m(\u001b[0m\u001b[0mself\u001b[0m\u001b[1;33m,\u001b[0m \u001b[0mreq\u001b[0m\u001b[1;33m,\u001b[0m \u001b[0mfp\u001b[0m\u001b[1;33m,\u001b[0m \u001b[0mcode\u001b[0m\u001b[1;33m,\u001b[0m \u001b[0mmsg\u001b[0m\u001b[1;33m,\u001b[0m \u001b[0mhdrs\u001b[0m\u001b[1;33m)\u001b[0m\u001b[1;33m:\u001b[0m\u001b[1;33m\u001b[0m\u001b[1;33m\u001b[0m\u001b[0m\n\u001b[1;32m--> 649\u001b[1;33m         \u001b[1;32mraise\u001b[0m \u001b[0mHTTPError\u001b[0m\u001b[1;33m(\u001b[0m\u001b[0mreq\u001b[0m\u001b[1;33m.\u001b[0m\u001b[0mfull_url\u001b[0m\u001b[1;33m,\u001b[0m \u001b[0mcode\u001b[0m\u001b[1;33m,\u001b[0m \u001b[0mmsg\u001b[0m\u001b[1;33m,\u001b[0m \u001b[0mhdrs\u001b[0m\u001b[1;33m,\u001b[0m \u001b[0mfp\u001b[0m\u001b[1;33m)\u001b[0m\u001b[1;33m\u001b[0m\u001b[1;33m\u001b[0m\u001b[0m\n\u001b[0m\u001b[0;32m    650\u001b[0m \u001b[1;33m\u001b[0m\u001b[0m\n\u001b[0;32m    651\u001b[0m \u001b[1;32mclass\u001b[0m \u001b[0mHTTPRedirectHandler\u001b[0m\u001b[1;33m(\u001b[0m\u001b[0mBaseHandler\u001b[0m\u001b[1;33m)\u001b[0m\u001b[1;33m:\u001b[0m\u001b[1;33m\u001b[0m\u001b[1;33m\u001b[0m\u001b[0m\n",
      "\u001b[1;31mHTTPError\u001b[0m: HTTP Error 400: Bad Request"
     ]
    }
   ],
   "source": [
    "import zipfile\n",
    "from urllib.request import urlretrieve\n",
    "\n",
    "def download_file(url, path):\n",
    "    print(\"Downloading from %s\" % url)\n",
    "    zip_path = path + \".zip\"\n",
    "    urlretrieve(url, zip_path)\n",
    "    with zipfile.ZipFile(zip_path, 'r') as zip_ref:\n",
    "        zip_ref.extractall(\"\")\n",
    "    os.remove(zip_path)    \n",
    "    \n",
    "url = \"https://storage.googleapis.com/kaggle-data-sets/3258/5337/bundle/archive.zip?GoogleAccessId=web-data@kaggle-161607.iam.gserviceaccount.com&Expires=1586457678&Signature=Fpk8Z%2BNCFNBkVKBztZZR5QHgmGBdfjXb6g3f8SWjGz8bXPgdh3jqslYfZ3EorgG6SvMcZ17OlGQ8zkrzWbGkN0Va5cHRVq5LYfDrJBw2rIbmaw3S4TUFR6XZTgwjmfIrD69G6w7Q1US4SydNmKb42Duf7pbP51VrK3RTPBHqowBvvM5wzQpkmDd6UMkIxKVltsZRtV%2F8SLuQKz%2BtUXP5dc88vXUU1M3REQ2NuFjrOakd3%2BINEzPnIDbIbpdedD4hFe95zBjNiMURqW4a8u4FplVVw9xI4ugdqOukzKC6pXnBetlgy5R0eyUJP2Udf63tp0s6NN%2FjOp8Clf5P9yOe%2FQ%3D%3D&response-content-disposition=attachment%3B+filename%3Dsign-language-mnist.zip\"\n",
    "download_file(url, \"sign-mnist\")"
   ]
  },
  {
   "cell_type": "markdown",
   "metadata": {},
   "source": [
    "# Read data"
   ]
  },
  {
   "cell_type": "code",
   "execution_count": 10,
   "metadata": {},
   "outputs": [],
   "source": [
    "def unzip(data):\n",
    "    first = [p[0] for p in data]\n",
    "    second = [p[1] for p in data]\n",
    "    return np.array(first), np.array(second)\n",
    "\n",
    "def read_images_and_labels(filename):\n",
    "    images = []\n",
    "    with open(filename) as f:\n",
    "        f.readline()\n",
    "        for line in f:\n",
    "            label, *values = line.strip().split(',')\n",
    "            image = np.array([float(v) for v in values]) / 255\n",
    "            image.resize((28, 28, 1))\n",
    "            images.append((int(label), image))\n",
    "            \n",
    "    return images\n",
    "\n",
    "test_images = read_images_and_labels(\"sign_mnist_test.csv\")\n",
    "train_images = read_images_and_labels(\"sign_mnist_train.csv\")\n",
    "\n",
    "train_len = len(train_images)\n",
    "val_len = int(train_len * 0.1)\n",
    "val_images = train_images[:val_len]\n",
    "train_images = train_images[val_len:]\n",
    "\n",
    "val_labels, val_images = unzip(val_images)\n",
    "train_labels, train_images = unzip(train_images)\n",
    "test_labels, test_images = unzip(test_images)\n",
    "\n",
    "classes = sorted(list(set(list(train_labels) + list(val_labels) + list(test_labels))))\n",
    "num_classes = max(classes) + 1"
   ]
  },
  {
   "cell_type": "markdown",
   "metadata": {},
   "source": [
    "## Plot data"
   ]
  },
  {
   "cell_type": "code",
   "execution_count": 11,
   "metadata": {},
   "outputs": [
    {
     "name": "stdout",
     "output_type": "stream",
     "text": [
      "Train len: 24710\n",
      "Val len: 2745\n",
      "Test len: 7172\n"
     ]
    },
    {
     "data": {
      "image/png": "[encoded data removed]",
      "text/plain": [
       "<Figure size 2016x2016 with 5 Axes>"
      ]
     },
     "metadata": {
      "needs_background": "light"
     },
     "output_type": "display_data"
    }
   ],
   "source": [
    "def plot_images(images):\n",
    "    fig, axes = plt.subplots(1, 5, figsize=(28,28))\n",
    "    axes = axes.flatten()\n",
    "    for img, ax in zip(images, axes):\n",
    "        img = np.array(img)\n",
    "        img.resize((28, 28))\n",
    "        ax.imshow(img, cmap='gray')\n",
    "        ax.axis('off')\n",
    "    plt.tight_layout()\n",
    "    plt.show()\n",
    "    \n",
    "print(\"Train len: %d\" % len(train_images))\n",
    "print(\"Val len: %d\" % len(val_images))\n",
    "print(\"Test len: %d\" % len(test_images))\n",
    "\n",
    "plot_images([random.choice(train_images) for i in range(5)])"
   ]
  },
  {
   "cell_type": "markdown",
   "metadata": {},
   "source": [
    "# Simple model"
   ]
  },
  {
   "cell_type": "code",
   "execution_count": 22,
   "metadata": {},
   "outputs": [
    {
     "name": "stdout",
     "output_type": "stream",
     "text": [
      "Model: \"sequential_3\"\n",
      "_________________________________________________________________\n",
      "Layer (type)                 Output Shape              Param #   \n",
      "=================================================================\n",
      "conv2d_9 (Conv2D)            (None, 28, 28, 32)        832       \n",
      "_________________________________________________________________\n",
      "average_pooling2d_6 (Average (None, 14, 14, 32)        0         \n",
      "_________________________________________________________________\n",
      "dropout_9 (Dropout)          (None, 14, 14, 32)        0         \n",
      "_________________________________________________________________\n",
      "conv2d_10 (Conv2D)           (None, 10, 10, 64)        51264     \n",
      "_________________________________________________________________\n",
      "average_pooling2d_7 (Average (None, 5, 5, 64)          0         \n",
      "_________________________________________________________________\n",
      "conv2d_11 (Conv2D)           (None, 4, 4, 64)          16448     \n",
      "_________________________________________________________________\n",
      "max_pooling2d_3 (MaxPooling2 (None, 2, 2, 64)          0         \n",
      "_________________________________________________________________\n",
      "flatten_3 (Flatten)          (None, 256)               0         \n",
      "_________________________________________________________________\n",
      "dense_9 (Dense)              (None, 120)               30840     \n",
      "_________________________________________________________________\n",
      "dropout_10 (Dropout)         (None, 120)               0         \n",
      "_________________________________________________________________\n",
      "dense_10 (Dense)             (None, 120)               14520     \n",
      "_________________________________________________________________\n",
      "dropout_11 (Dropout)         (None, 120)               0         \n",
      "_________________________________________________________________\n",
      "dense_11 (Dense)             (None, 25)                3025      \n",
      "=================================================================\n",
      "Total params: 116,929\n",
      "Trainable params: 116,929\n",
      "Non-trainable params: 0\n",
      "_________________________________________________________________\n"
     ]
    }
   ],
   "source": [
    "model = Sequential([\n",
    "    Conv2D(32, kernel_size=(5, 5), strides=(1, 1), activation='tanh', input_shape=(28, 28, 1), padding=\"same\"),\n",
    "    AveragePooling2D(pool_size=(2, 2), strides=(2, 2), padding='valid'),\n",
    "    Dropout(0.1),\n",
    "    \n",
    "    Conv2D(64, kernel_size=(5, 5), strides=(1, 1), activation='tanh', padding='valid'),\n",
    "    AveragePooling2D(pool_size=(2, 2), strides=(2, 2), padding='valid'),\n",
    "    \n",
    "    Conv2D(64, kernel_size=(2, 2), strides=(1, 1), activation='tanh', padding='valid'),\n",
    "    MaxPooling2D(pool_size=(2, 2), strides=(2, 2), padding='valid'),\n",
    "    \n",
    "    Flatten(),\n",
    "    Dense(120, activation=\"relu\"),\n",
    "    Dropout(0.1),\n",
    "    Dense(120, activation=\"relu\"),\n",
    "    Dropout(0.1),\n",
    "    Dense(num_classes, activation=\"softmax\")\n",
    "])\n",
    "\n",
    "model.compile(optimizer=\"adam\", loss='sparse_categorical_crossentropy', metrics=['accuracy'])\n",
    "model.summary()"
   ]
  },
  {
   "cell_type": "code",
   "execution_count": 13,
   "metadata": {},
   "outputs": [
    {
     "name": "stdout",
     "output_type": "stream",
     "text": [
      "Train on 24710 samples, validate on 2745 samples\n",
      "Epoch 1/5\n",
      "24710/24710 [==============================] - 15s 611us/sample - loss: 1.0827 - accuracy: 0.6545 - val_loss: 0.1696 - val_accuracy: 0.9428\n",
      "Epoch 2/5\n",
      "24710/24710 [==============================] - 14s 565us/sample - loss: 0.1101 - accuracy: 0.9659 - val_loss: 0.0184 - val_accuracy: 0.9967\n",
      "Epoch 3/5\n",
      "24710/24710 [==============================] - 17s 690us/sample - loss: 0.0395 - accuracy: 0.9885 - val_loss: 0.0039 - val_accuracy: 0.9996\n",
      "Epoch 4/5\n",
      "24710/24710 [==============================] - 16s 654us/sample - loss: 0.0280 - accuracy: 0.9911 - val_loss: 0.0266 - val_accuracy: 0.9902\n",
      "Epoch 5/5\n",
      "24710/24710 [==============================] - 15s 596us/sample - loss: 0.0242 - accuracy: 0.9925 - val_loss: 0.0016 - val_accuracy: 1.0000\n"
     ]
    }
   ],
   "source": [
    "history = model.fit(\n",
    "    train_images, train_labels, \n",
    "    epochs=5, \n",
    "    validation_data=(val_images, val_labels), \n",
    "    batch_size=32)"
   ]
  },
  {
   "cell_type": "code",
   "execution_count": 20,
   "metadata": {},
   "outputs": [
    {
     "name": "stdout",
     "output_type": "stream",
     "text": [
      "7172/7172 [==============================] - 1s 117us/sample - loss: 1.8453 - accuracy: 0.4032\n"
     ]
    },
    {
     "data": {
      "image/png": "[encoded data removed]",
      "text/plain": [
       "<Figure size 432x288 with 1 Axes>"
      ]
     },
     "metadata": {
      "needs_background": "light"
     },
     "output_type": "display_data"
    }
   ],
   "source": [
    "model.evaluate(test_images, test_labels)\n",
    "\n",
    "def plot_history(history):\n",
    "    plt.title('model accuracy')\n",
    "    plt.ylabel('accuracy')\n",
    "    plt.xlabel('epoch')\n",
    "\n",
    "    plt.plot(history.history['accuracy'])\n",
    "    plt.plot(history.history['val_accuracy'])\n",
    "\n",
    "    plt.legend(['train', 'val'], loc='upper left')\n",
    "    plt.show()\n",
    "    \n",
    "plot_history(history)"
   ]
  },
  {
   "cell_type": "markdown",
   "metadata": {},
   "source": [
    "# Augmented images"
   ]
  },
  {
   "cell_type": "code",
   "execution_count": 15,
   "metadata": {},
   "outputs": [],
   "source": [
    "from tensorflow.keras.preprocessing.image import ImageDataGenerator\n",
    "\n",
    "image_aug_gen_train = ImageDataGenerator(\n",
    "    rotation_range=45,\n",
    "    width_shift_range=.15,\n",
    "    height_shift_range=.15,\n",
    "    horizontal_flip=True,\n",
    "    zoom_range=0.5\n",
    ")\n",
    "\n",
    "image_aug_gen_val = ImageDataGenerator(\n",
    "    rotation_range=45,\n",
    "    width_shift_range=.15,\n",
    "    height_shift_range=.15,\n",
    "    horizontal_flip=True,\n",
    "    zoom_range=0.5\n",
    ")\n",
    "\n",
    "image_aug_gen_val = ImageDataGenerator()\n",
    "\n",
    "train_aug_data_gen = image_aug_gen_train.flow(\n",
    "    train_images, train_labels, \n",
    "    batch_size=64, shuffle=True)\n",
    "\n",
    "val_aug_data_gen = image_aug_gen_val.flow(\n",
    "    val_images, val_labels, \n",
    "    batch_size=64, shuffle=True)"
   ]
  },
  {
   "cell_type": "code",
   "execution_count": 16,
   "metadata": {},
   "outputs": [
    {
     "data": {
      "image/png": "[encoded data removed]",
      "text/plain": [
       "<Figure size 2016x2016 with 5 Axes>"
      ]
     },
     "metadata": {
      "needs_background": "light"
     },
     "output_type": "display_data"
    }
   ],
   "source": [
    "augmented_images = [train_aug_data_gen[0][0][0] for i in range(5)]\n",
    "plot_images(augmented_images)"
   ]
  },
  {
   "cell_type": "code",
   "execution_count": 30,
   "metadata": {},
   "outputs": [
    {
     "name": "stdout",
     "output_type": "stream",
     "text": [
      "Model: \"sequential_6\"\n",
      "_________________________________________________________________\n",
      "Layer (type)                 Output Shape              Param #   \n",
      "=================================================================\n",
      "conv2d_18 (Conv2D)           (None, 28, 28, 32)        832       \n",
      "_________________________________________________________________\n",
      "average_pooling2d_12 (Averag (None, 14, 14, 32)        0         \n",
      "_________________________________________________________________\n",
      "dropout_18 (Dropout)         (None, 14, 14, 32)        0         \n",
      "_________________________________________________________________\n",
      "conv2d_19 (Conv2D)           (None, 10, 10, 64)        51264     \n",
      "_________________________________________________________________\n",
      "average_pooling2d_13 (Averag (None, 5, 5, 64)          0         \n",
      "_________________________________________________________________\n",
      "conv2d_20 (Conv2D)           (None, 4, 4, 64)          16448     \n",
      "_________________________________________________________________\n",
      "max_pooling2d_6 (MaxPooling2 (None, 2, 2, 64)          0         \n",
      "_________________________________________________________________\n",
      "flatten_6 (Flatten)          (None, 256)               0         \n",
      "_________________________________________________________________\n",
      "dense_19 (Dense)             (None, 120)               30840     \n",
      "_________________________________________________________________\n",
      "dropout_19 (Dropout)         (None, 120)               0         \n",
      "_________________________________________________________________\n",
      "dense_20 (Dense)             (None, 120)               14520     \n",
      "_________________________________________________________________\n",
      "dropout_20 (Dropout)         (None, 120)               0         \n",
      "_________________________________________________________________\n",
      "dense_21 (Dense)             (None, 25)                3025      \n",
      "=================================================================\n",
      "Total params: 116,929\n",
      "Trainable params: 116,929\n",
      "Non-trainable params: 0\n",
      "_________________________________________________________________\n"
     ]
    }
   ],
   "source": [
    "model = Sequential([\n",
    "    Conv2D(32, kernel_size=(5, 5), strides=(1, 1), activation='tanh', input_shape=(28, 28, 1), padding=\"same\"),\n",
    "    AveragePooling2D(pool_size=(2, 2), strides=(2, 2), padding='valid'),\n",
    "    Dropout(0.1),\n",
    "    \n",
    "    Conv2D(64, kernel_size=(5, 5), strides=(1, 1), activation='tanh', padding='valid'),\n",
    "    AveragePooling2D(pool_size=(2, 2), strides=(2, 2), padding='valid'),\n",
    "    \n",
    "    Conv2D(64, kernel_size=(2, 2), strides=(1, 1), activation='tanh', padding='valid'),\n",
    "    MaxPooling2D(pool_size=(2, 2), strides=(2, 2), padding='valid'),\n",
    "    \n",
    "    Flatten(),\n",
    "    Dense(120, activation=\"relu\"),\n",
    "    Dropout(0.1),\n",
    "    Dense(120, activation=\"relu\"),\n",
    "    Dropout(0.1),\n",
    "    Dense(num_classes, activation=\"softmax\")\n",
    "])\n",
    "\n",
    "model.compile(optimizer=\"adam\", loss='sparse_categorical_crossentropy', metrics=['accuracy'])\n",
    "model.summary()"
   ]
  },
  {
   "cell_type": "code",
   "execution_count": 31,
   "metadata": {},
   "outputs": [
    {
     "name": "stdout",
     "output_type": "stream",
     "text": [
      "WARNING:tensorflow:sample_weight modes were coerced from\n",
      "  ...\n",
      "    to  \n",
      "  ['...']\n",
      "WARNING:tensorflow:sample_weight modes were coerced from\n",
      "  ...\n",
      "    to  \n",
      "  ['...']\n",
      "Train for 387 steps, validate for 43 steps\n",
      "Epoch 1/60\n",
      "387/387 [==============================] - 28s 71ms/step - loss: 2.9652 - accuracy: 0.1060 - val_loss: 2.2963 - val_accuracy: 0.2860\n",
      "Epoch 2/60\n",
      "387/387 [==============================] - 28s 73ms/step - loss: 2.5482 - accuracy: 0.2149 - val_loss: 1.8060 - val_accuracy: 0.4448\n",
      "Epoch 3/60\n",
      "387/387 [==============================] - 28s 71ms/step - loss: 2.3160 - accuracy: 0.2785 - val_loss: 1.5295 - val_accuracy: 0.5260\n",
      "Epoch 4/60\n",
      "387/387 [==============================] - 18s 48ms/step - loss: 2.1392 - accuracy: 0.3260 - val_loss: 1.2817 - val_accuracy: 0.6011\n",
      "Epoch 5/60\n",
      "387/387 [==============================] - 18s 46ms/step - loss: 2.0036 - accuracy: 0.3596 - val_loss: 1.1688 - val_accuracy: 0.6350\n",
      "Epoch 6/60\n",
      "387/387 [==============================] - 17s 44ms/step - loss: 1.8848 - accuracy: 0.3956 - val_loss: 1.0407 - val_accuracy: 0.6809\n",
      "Epoch 7/60\n",
      "387/387 [==============================] - 16s 41ms/step - loss: 1.7990 - accuracy: 0.4203 - val_loss: 0.9467 - val_accuracy: 0.7118\n",
      "Epoch 8/60\n",
      "387/387 [==============================] - 13s 34ms/step - loss: 1.7170 - accuracy: 0.4433 - val_loss: 0.8723 - val_accuracy: 0.7235\n",
      "Epoch 9/60\n",
      "387/387 [==============================] - 14s 36ms/step - loss: 1.6527 - accuracy: 0.4622 - val_loss: 0.7766 - val_accuracy: 0.7588\n",
      "Epoch 10/60\n",
      "387/387 [==============================] - 13s 35ms/step - loss: 1.6028 - accuracy: 0.4774 - val_loss: 0.7537 - val_accuracy: 0.7592\n",
      "Epoch 11/60\n",
      "387/387 [==============================] - 14s 36ms/step - loss: 1.5529 - accuracy: 0.4947 - val_loss: 0.6512 - val_accuracy: 0.7993\n",
      "Epoch 12/60\n",
      "387/387 [==============================] - 13s 34ms/step - loss: 1.4951 - accuracy: 0.5099 - val_loss: 0.6419 - val_accuracy: 0.8091\n",
      "Epoch 13/60\n",
      "387/387 [==============================] - 13s 34ms/step - loss: 1.4609 - accuracy: 0.5221 - val_loss: 0.5801 - val_accuracy: 0.8160\n",
      "Epoch 14/60\n",
      "387/387 [==============================] - 13s 34ms/step - loss: 1.4259 - accuracy: 0.5303 - val_loss: 0.5908 - val_accuracy: 0.8182\n",
      "Epoch 15/60\n",
      "387/387 [==============================] - 14s 35ms/step - loss: 1.3745 - accuracy: 0.5427 - val_loss: 0.5651 - val_accuracy: 0.8240\n",
      "Epoch 16/60\n",
      "387/387 [==============================] - 14s 36ms/step - loss: 1.3547 - accuracy: 0.5541 - val_loss: 0.5311 - val_accuracy: 0.8299\n",
      "Epoch 17/60\n",
      "387/387 [==============================] - 13s 35ms/step - loss: 1.3371 - accuracy: 0.5570 - val_loss: 0.5156 - val_accuracy: 0.8350\n",
      "Epoch 18/60\n",
      "387/387 [==============================] - 14s 35ms/step - loss: 1.2993 - accuracy: 0.5690 - val_loss: 0.4985 - val_accuracy: 0.8506\n",
      "Epoch 19/60\n",
      "387/387 [==============================] - 13s 33ms/step - loss: 1.2799 - accuracy: 0.5805 - val_loss: 0.4846 - val_accuracy: 0.8463\n",
      "Epoch 20/60\n",
      "387/387 [==============================] - 13s 33ms/step - loss: 1.2287 - accuracy: 0.5955 - val_loss: 0.4359 - val_accuracy: 0.8674\n",
      "Epoch 21/60\n",
      "387/387 [==============================] - 13s 33ms/step - loss: 1.2202 - accuracy: 0.5941 - val_loss: 0.4342 - val_accuracy: 0.8568\n",
      "Epoch 22/60\n",
      "387/387 [==============================] - 13s 34ms/step - loss: 1.1968 - accuracy: 0.6001 - val_loss: 0.3992 - val_accuracy: 0.8812\n",
      "Epoch 23/60\n",
      "387/387 [==============================] - 13s 33ms/step - loss: 1.1877 - accuracy: 0.6057 - val_loss: 0.4237 - val_accuracy: 0.8656\n",
      "Epoch 24/60\n",
      "387/387 [==============================] - 13s 33ms/step - loss: 1.1758 - accuracy: 0.6134 - val_loss: 0.3782 - val_accuracy: 0.8787\n",
      "Epoch 25/60\n",
      "387/387 [==============================] - 13s 34ms/step - loss: 1.1356 - accuracy: 0.6240 - val_loss: 0.3608 - val_accuracy: 0.8852\n",
      "Epoch 26/60\n",
      "387/387 [==============================] - 13s 33ms/step - loss: 1.1210 - accuracy: 0.6281 - val_loss: 0.3654 - val_accuracy: 0.8845\n",
      "Epoch 27/60\n",
      "387/387 [==============================] - 21s 53ms/step - loss: 1.0991 - accuracy: 0.6375 - val_loss: 0.3387 - val_accuracy: 0.8954\n",
      "Epoch 28/60\n",
      "387/387 [==============================] - 27s 69ms/step - loss: 1.0729 - accuracy: 0.6458 - val_loss: 0.3401 - val_accuracy: 0.8925\n",
      "Epoch 29/60\n",
      "387/387 [==============================] - 13s 33ms/step - loss: 1.0555 - accuracy: 0.6485 - val_loss: 0.3188 - val_accuracy: 0.9031\n",
      "Epoch 30/60\n",
      "387/387 [==============================] - 13s 33ms/step - loss: 1.0513 - accuracy: 0.6510 - val_loss: 0.3124 - val_accuracy: 0.9097\n",
      "Epoch 31/60\n",
      "387/387 [==============================] - 25s 64ms/step - loss: 1.0364 - accuracy: 0.6550 - val_loss: 0.3249 - val_accuracy: 0.9009\n",
      "Epoch 32/60\n",
      "387/387 [==============================] - 29s 74ms/step - loss: 1.0294 - accuracy: 0.6561 - val_loss: 0.2829 - val_accuracy: 0.9173\n",
      "Epoch 33/60\n",
      "387/387 [==============================] - 28s 71ms/step - loss: 1.0179 - accuracy: 0.6617 - val_loss: 0.2798 - val_accuracy: 0.9206\n",
      "Epoch 34/60\n",
      "387/387 [==============================] - 27s 70ms/step - loss: 0.9830 - accuracy: 0.6707 - val_loss: 0.2826 - val_accuracy: 0.9235\n",
      "Epoch 35/60\n",
      "387/387 [==============================] - 21s 56ms/step - loss: 0.9972 - accuracy: 0.6675 - val_loss: 0.2754 - val_accuracy: 0.9206\n",
      "Epoch 36/60\n",
      "387/387 [==============================] - 24s 62ms/step - loss: 0.9524 - accuracy: 0.6823 - val_loss: 0.2788 - val_accuracy: 0.9260\n",
      "Epoch 37/60\n",
      "387/387 [==============================] - 28s 74ms/step - loss: 0.9621 - accuracy: 0.6815 - val_loss: 0.2899 - val_accuracy: 0.9049\n",
      "Epoch 38/60\n",
      "387/387 [==============================] - 27s 69ms/step - loss: 0.9558 - accuracy: 0.6791 - val_loss: 0.2586 - val_accuracy: 0.9155\n",
      "Epoch 39/60\n",
      "387/387 [==============================] - 27s 69ms/step - loss: 0.9361 - accuracy: 0.6838 - val_loss: 0.2737 - val_accuracy: 0.9140\n",
      "Epoch 40/60\n",
      "387/387 [==============================] - 27s 70ms/step - loss: 0.9173 - accuracy: 0.6906 - val_loss: 0.2247 - val_accuracy: 0.9319\n",
      "Epoch 41/60\n",
      "387/387 [==============================] - 27s 70ms/step - loss: 0.9284 - accuracy: 0.6886 - val_loss: 0.2727 - val_accuracy: 0.9111\n",
      "Epoch 42/60\n",
      "387/387 [==============================] - 27s 71ms/step - loss: 0.9118 - accuracy: 0.6966 - val_loss: 0.2544 - val_accuracy: 0.9199\n",
      "Epoch 43/60\n",
      "387/387 [==============================] - 28s 73ms/step - loss: 0.9062 - accuracy: 0.6980 - val_loss: 0.2341 - val_accuracy: 0.9242\n",
      "Epoch 44/60\n",
      "387/387 [==============================] - 28s 72ms/step - loss: 0.9005 - accuracy: 0.7006 - val_loss: 0.1940 - val_accuracy: 0.9464\n",
      "Epoch 45/60\n",
      "387/387 [==============================] - 27s 70ms/step - loss: 0.8645 - accuracy: 0.7102 - val_loss: 0.2533 - val_accuracy: 0.9140\n",
      "Epoch 46/60\n",
      "387/387 [==============================] - 27s 69ms/step - loss: 0.8637 - accuracy: 0.7090 - val_loss: 0.2112 - val_accuracy: 0.9406\n",
      "Epoch 47/60\n",
      "387/387 [==============================] - 27s 69ms/step - loss: 0.8659 - accuracy: 0.7088 - val_loss: 0.2081 - val_accuracy: 0.9366\n",
      "Epoch 48/60\n",
      "387/387 [==============================] - 27s 69ms/step - loss: 0.8637 - accuracy: 0.7121 - val_loss: 0.2373 - val_accuracy: 0.9242\n",
      "Epoch 49/60\n",
      "387/387 [==============================] - 29s 75ms/step - loss: 0.8433 - accuracy: 0.7180 - val_loss: 0.2555 - val_accuracy: 0.9260\n",
      "Epoch 50/60\n",
      "387/387 [==============================] - 29s 74ms/step - loss: 0.8345 - accuracy: 0.7201 - val_loss: 0.1966 - val_accuracy: 0.9395\n",
      "Epoch 51/60\n",
      "387/387 [==============================] - 28s 71ms/step - loss: 0.8408 - accuracy: 0.7167 - val_loss: 0.2283 - val_accuracy: 0.9162\n",
      "Epoch 52/60\n",
      "387/387 [==============================] - 28s 72ms/step - loss: 0.8220 - accuracy: 0.7255 - val_loss: 0.2388 - val_accuracy: 0.9213\n",
      "Epoch 53/60\n",
      "387/387 [==============================] - 29s 76ms/step - loss: 0.8310 - accuracy: 0.7245 - val_loss: 0.1766 - val_accuracy: 0.9483\n",
      "Epoch 54/60\n",
      "387/387 [==============================] - 27s 70ms/step - loss: 0.8127 - accuracy: 0.7240 - val_loss: 0.1912 - val_accuracy: 0.9486\n",
      "Epoch 55/60\n",
      "387/387 [==============================] - 28s 71ms/step - loss: 0.8201 - accuracy: 0.7263 - val_loss: 0.1911 - val_accuracy: 0.9439\n",
      "Epoch 56/60\n"
     ]
    },
    {
     "name": "stdout",
     "output_type": "stream",
     "text": [
      "387/387 [==============================] - 28s 71ms/step - loss: 0.8130 - accuracy: 0.7323 - val_loss: 0.1692 - val_accuracy: 0.9545\n",
      "Epoch 57/60\n",
      "387/387 [==============================] - 29s 76ms/step - loss: 0.7991 - accuracy: 0.7299 - val_loss: 0.1769 - val_accuracy: 0.9464\n",
      "Epoch 58/60\n",
      "387/387 [==============================] - 29s 74ms/step - loss: 0.7937 - accuracy: 0.7351 - val_loss: 0.1776 - val_accuracy: 0.9556\n",
      "Epoch 59/60\n",
      "387/387 [==============================] - 28s 74ms/step - loss: 0.7909 - accuracy: 0.7342 - val_loss: 0.1614 - val_accuracy: 0.9537\n",
      "Epoch 60/60\n",
      "387/387 [==============================] - 29s 74ms/step - loss: 0.7778 - accuracy: 0.7374 - val_loss: 0.1469 - val_accuracy: 0.9614\n"
     ]
    }
   ],
   "source": [
    "history = model.fit_generator(train_aug_data_gen, epochs=60, validation_data=val_aug_data_gen)"
   ]
  },
  {
   "cell_type": "code",
   "execution_count": 32,
   "metadata": {},
   "outputs": [
    {
     "data": {
      "image/png": "[encoded data removed]",
      "text/plain": [
       "<Figure size 432x288 with 1 Axes>"
      ]
     },
     "metadata": {
      "needs_background": "light"
     },
     "output_type": "display_data"
    },
    {
     "name": "stdout",
     "output_type": "stream",
     "text": [
      "7172/7172 [==============================] - 3s 366us/sample - loss: 0.1898 - accuracy: 0.9513\n"
     ]
    },
    {
     "data": {
      "text/plain": [
       "[0.1898027925320464, 0.9513385]"
      ]
     },
     "execution_count": 32,
     "metadata": {},
     "output_type": "execute_result"
    }
   ],
   "source": [
    "plot_history(history)\n",
    "model.evaluate(test_images, test_labels)"
   ]
  },
  {
   "cell_type": "markdown",
   "metadata": {},
   "source": [
    "# VGG19 network"
   ]
  },
  {
   "cell_type": "code",
   "execution_count": 33,
   "metadata": {},
   "outputs": [
    {
     "name": "stdout",
     "output_type": "stream",
     "text": [
      "Downloading data from https://github.com/fchollet/deep-learning-models/releases/download/v0.1/vgg19_weights_tf_dim_ordering_tf_kernels_notop.h5\n",
      "80142336/80134624 [==============================] - 14s 0us/step\n",
      "Model: \"model\"\n",
      "_________________________________________________________________\n",
      "Layer (type)                 Output Shape              Param #   \n",
      "=================================================================\n",
      "input_1 (InputLayer)         [(None, 32, 32, 3)]       0         \n",
      "_________________________________________________________________\n",
      "block1_conv1 (Conv2D)        (None, 32, 32, 64)        1792      \n",
      "_________________________________________________________________\n",
      "block1_conv2 (Conv2D)        (None, 32, 32, 64)        36928     \n",
      "_________________________________________________________________\n",
      "block1_pool (MaxPooling2D)   (None, 16, 16, 64)        0         \n",
      "_________________________________________________________________\n",
      "block2_conv1 (Conv2D)        (None, 16, 16, 128)       73856     \n",
      "_________________________________________________________________\n",
      "block2_conv2 (Conv2D)        (None, 16, 16, 128)       147584    \n",
      "_________________________________________________________________\n",
      "block2_pool (MaxPooling2D)   (None, 8, 8, 128)         0         \n",
      "_________________________________________________________________\n",
      "block3_conv1 (Conv2D)        (None, 8, 8, 256)         295168    \n",
      "_________________________________________________________________\n",
      "block3_conv2 (Conv2D)        (None, 8, 8, 256)         590080    \n",
      "_________________________________________________________________\n",
      "block3_conv3 (Conv2D)        (None, 8, 8, 256)         590080    \n",
      "_________________________________________________________________\n",
      "block3_conv4 (Conv2D)        (None, 8, 8, 256)         590080    \n",
      "_________________________________________________________________\n",
      "block3_pool (MaxPooling2D)   (None, 4, 4, 256)         0         \n",
      "_________________________________________________________________\n",
      "block4_conv1 (Conv2D)        (None, 4, 4, 512)         1180160   \n",
      "_________________________________________________________________\n",
      "block4_conv2 (Conv2D)        (None, 4, 4, 512)         2359808   \n",
      "_________________________________________________________________\n",
      "block4_conv3 (Conv2D)        (None, 4, 4, 512)         2359808   \n",
      "_________________________________________________________________\n",
      "block4_conv4 (Conv2D)        (None, 4, 4, 512)         2359808   \n",
      "_________________________________________________________________\n",
      "block4_pool (MaxPooling2D)   (None, 2, 2, 512)         0         \n",
      "_________________________________________________________________\n",
      "block5_conv1 (Conv2D)        (None, 2, 2, 512)         2359808   \n",
      "_________________________________________________________________\n",
      "block5_conv2 (Conv2D)        (None, 2, 2, 512)         2359808   \n",
      "_________________________________________________________________\n",
      "block5_conv3 (Conv2D)        (None, 2, 2, 512)         2359808   \n",
      "_________________________________________________________________\n",
      "block5_conv4 (Conv2D)        (None, 2, 2, 512)         2359808   \n",
      "_________________________________________________________________\n",
      "block5_pool (MaxPooling2D)   (None, 1, 1, 512)         0         \n",
      "_________________________________________________________________\n",
      "global_average_pooling2d (Gl (None, 512)               0         \n",
      "_________________________________________________________________\n",
      "dense_22 (Dense)             (None, 1024)              525312    \n",
      "_________________________________________________________________\n",
      "dropout_21 (Dropout)         (None, 1024)              0         \n",
      "_________________________________________________________________\n",
      "dense_23 (Dense)             (None, 1024)              1049600   \n",
      "_________________________________________________________________\n",
      "dense_24 (Dense)             (None, 25)                25625     \n",
      "=================================================================\n",
      "Total params: 21,624,921\n",
      "Trainable params: 21,512,345\n",
      "Non-trainable params: 112,576\n",
      "_________________________________________________________________\n"
     ]
    }
   ],
   "source": [
    "vgg_base = tf.keras.applications.VGG19(weights='imagenet', include_top=False, input_shape=(32, 32, 3))\n",
    "\n",
    "for layer in vgg_base.layers[:5]:\n",
    "    layer.trainable = False\n",
    "    \n",
    "x = vgg_base.output\n",
    "x = tf.keras.layers.GlobalAveragePooling2D()(x)\n",
    "x = Dense(1024, activation=\"relu\")(x)\n",
    "x = Dropout(0.5)(x)\n",
    "x = Dense(1024, activation=\"relu\")(x)\n",
    "predictions = Dense(25, activation=\"softmax\")(x)\n",
    "\n",
    "vgg_model = Model(vgg_base.input, predictions)\n",
    "\n",
    "vgg_model.compile(optimizer='sgd', loss='sparse_categorical_crossentropy', metrics=['accuracy'])\n",
    "vgg_model.summary()"
   ]
  },
  {
   "cell_type": "markdown",
   "metadata": {},
   "source": [
    "## Resize data to fit VGG19"
   ]
  },
  {
   "cell_type": "code",
   "execution_count": 34,
   "metadata": {},
   "outputs": [
    {
     "data": {
      "text/plain": [
       "<matplotlib.image.AxesImage at 0x20141b101d0>"
      ]
     },
     "execution_count": 34,
     "metadata": {},
     "output_type": "execute_result"
    },
    {
     "data": {
      "image/png": "[encoded data removed]",
      "text/plain": [
       "<Figure size 432x288 with 1 Axes>"
      ]
     },
     "metadata": {
      "needs_background": "light"
     },
     "output_type": "display_data"
    }
   ],
   "source": [
    "def gray_to_rgb(img):\n",
    "    img = np.repeat(img, 3, 2)\n",
    "    return img\n",
    "\n",
    "train_images_3p = np.array([gray_to_rgb(img) for img in tf.image.resize(train_images, (32, 32))])\n",
    "val_images_3p = np.array([gray_to_rgb(img) for img in tf.image.resize(val_images, (32, 32))])\n",
    "test_images_3p = np.array([gray_to_rgb(img) for img in tf.image.resize(test_images, (32, 32))])\n",
    "\n",
    "plt.imshow(train_images_3p[1])"
   ]
  },
  {
   "cell_type": "code",
   "execution_count": 35,
   "metadata": {},
   "outputs": [
    {
     "name": "stdout",
     "output_type": "stream",
     "text": [
      "Train on 24710 samples, validate on 2745 samples\n",
      "Epoch 1/2\n",
      "24710/24710 [==============================] - 859s 35ms/sample - loss: 0.7808 - accuracy: 0.7499 - val_loss: 0.0015 - val_accuracy: 0.9969\n",
      "Epoch 2/2\n",
      "24710/24710 [==============================] - 1025s 41ms/sample - loss: 0.0665 - accuracy: 0.9841 - val_loss: 1.2854e-05 - val_accuracy: 1.0000\n"
     ]
    },
    {
     "data": {
      "text/plain": [
       "<tensorflow.python.keras.callbacks.History at 0x20141ca3be0>"
      ]
     },
     "execution_count": 35,
     "metadata": {},
     "output_type": "execute_result"
    }
   ],
   "source": [
    "vgg_model.fit(\n",
    "    train_images_3p, train_labels, \n",
    "    epochs=2,\n",
    "    validation_data=(val_images_3p, val_labels), \n",
    "    validation_steps=10,\n",
    "    verbose=1)"
   ]
  },
  {
   "cell_type": "code",
   "execution_count": 36,
   "metadata": {},
   "outputs": [
    {
     "name": "stdout",
     "output_type": "stream",
     "text": [
      "7172/7172 [==============================] - 33s 5ms/sample - loss: 0.0080 - accuracy: 0.9980\n"
     ]
    },
    {
     "data": {
      "text/plain": [
       "[0.008041589267465897, 0.99804795]"
      ]
     },
     "execution_count": 36,
     "metadata": {},
     "output_type": "execute_result"
    }
   ],
   "source": [
    "vgg_model.evaluate(test_images_3p, test_labels)"
   ]
  }
 ],
 "metadata": {
  "kernelspec": {
   "display_name": "Python 3",
   "language": "python",
   "name": "python3"
  },
  "language_info": {
   "codemirror_mode": {
    "name": "ipython",
    "version": 3
   },
   "file_extension": ".py",
   "mimetype": "text/x-python",
   "name": "python",
   "nbconvert_exporter": "python",
   "pygments_lexer": "ipython3",
   "version": "3.7.3"
  }
 },
 "nbformat": 4,
 "nbformat_minor": 2
}
