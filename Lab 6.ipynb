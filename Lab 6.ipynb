{
 "cells": [
  {
   "cell_type": "code",
   "execution_count": null,
   "metadata": {},
   "outputs": [],
   "source": [
    "import os\n",
    "import numpy as np\n",
    "import matplotlib.pyplot as plt\n",
    "import random\n",
    "import tensorflow as tf\n",
    "\n",
    "from tensorflow.keras import layers, Model, Input, Sequential\n",
    "from tensorflow.keras.layers import Dense, Dropout, Conv2D, Flatten, AveragePooling2D, MaxPooling2D"
   ]
  },
  {
   "cell_type": "markdown",
   "metadata": {},
   "source": [
    "# Download data"
   ]
  },
  {
   "cell_type": "code",
   "execution_count": null,
   "metadata": {},
   "outputs": [],
   "source": [
    "import zipfile\n",
    "from urllib.request import urlretrieve\n",
    "\n",
    "def download_file(url, path):\n",
    "    print(\"Downloading from %s\" % url)\n",
    "    zip_path = path + \".zip\"\n",
    "    urlretrieve(url, zip_path)\n",
    "    with zipfile.ZipFile(zip_path, 'r') as zip_ref:\n",
    "        zip_ref.extractall(\"\")\n",
    "    os.remove(zip_path)    \n",
    "    \n",
    "url = \"https://storage.googleapis.com/kaggle-data-sets/3258/5337/bundle/archive.zip?GoogleAccessId=web-data@kaggle-161607.iam.gserviceaccount.com&Expires=1586457678&Signature=Fpk8Z%2BNCFNBkVKBztZZR5QHgmGBdfjXb6g3f8SWjGz8bXPgdh3jqslYfZ3EorgG6SvMcZ17OlGQ8zkrzWbGkN0Va5cHRVq5LYfDrJBw2rIbmaw3S4TUFR6XZTgwjmfIrD69G6w7Q1US4SydNmKb42Duf7pbP51VrK3RTPBHqowBvvM5wzQpkmDd6UMkIxKVltsZRtV%2F8SLuQKz%2BtUXP5dc88vXUU1M3REQ2NuFjrOakd3%2BINEzPnIDbIbpdedD4hFe95zBjNiMURqW4a8u4FplVVw9xI4ugdqOukzKC6pXnBetlgy5R0eyUJP2Udf63tp0s6NN%2FjOp8Clf5P9yOe%2FQ%3D%3D&response-content-disposition=attachment%3B+filename%3Dsign-language-mnist.zip\"\n",
    "download_file(url, \"sign-mnist\")"
   ]
  },
  {
   "cell_type": "markdown",
   "metadata": {},
   "source": [
    "# Read data"
   ]
  },
  {
   "cell_type": "code",
   "execution_count": null,
   "metadata": {},
   "outputs": [],
   "source": [
    "def unzip(data):\n",
    "    first = [p[0] for p in data]\n",
    "    second = [p[1] for p in data]\n",
    "    return np.array(first), np.array(second)\n",
    "\n",
    "def read_images_and_labels(filename):\n",
    "    images = []\n",
    "    with open(filename) as f:\n",
    "        f.readline()\n",
    "        for line in f:\n",
    "            label, *values = line.strip().split(',')\n",
    "            image = np.array([float(v) for v in values]) / 255\n",
    "            image.resize((28, 28, 1))\n",
    "            images.append((int(label), image))\n",
    "            \n",
    "    return images\n",
    "\n",
    "def plot_images(images):\n",
    "    fig, axes = plt.subplots(1, 5, figsize=(28,28))\n",
    "    axes = axes.flatten()\n",
    "    for img, ax in zip(images, axes):\n",
    "        img = np.array(img)\n",
    "        img.resize((28, 28))\n",
    "        ax.imshow(img, cmap='gray')\n",
    "        ax.axis('off')\n",
    "    plt.tight_layout()\n",
    "    plt.show()\n",
    "\n",
    "test_images = read_images_and_labels(\"sign_mnist_test.csv\")\n",
    "train_images = read_images_and_labels(\"sign_mnist_train.csv\")\n",
    "\n",
    "train_len = len(train_images)\n",
    "val_len = int(train_len * 0.05)\n",
    "val_images = train_images[:val_len]\n",
    "train_images = train_images[val_len:]\n",
    "\n",
    "val_labels, val_images = unzip(val_images)\n",
    "train_labels, train_images = unzip(train_images)\n",
    "test_labels, test_images = unzip(test_images)\n",
    "\n",
    "classes = sorted(list(set(list(train_labels) + list(val_labels) + list(test_labels))))\n",
    "num_classes = max(classes) + 1\n",
    "\n",
    "print(\"Train len: %d\" % len(train_images))\n",
    "print(\"Val len: %d\" % len(val_images))\n",
    "print(\"Test len: %d\" % len(test_images))\n",
    "\n",
    "plot_images([random.choice(train_images) for i in range(5)])"
   ]
  },
  {
   "cell_type": "markdown",
   "metadata": {},
   "source": [
    "# Simple model"
   ]
  },
  {
   "cell_type": "code",
   "execution_count": null,
   "metadata": {},
   "outputs": [],
   "source": [
    "model = Sequential([\n",
    "    Conv2D(32, kernel_size=(5, 5), strides=(1, 1), activation='tanh', input_shape=(28, 28, 1), padding=\"same\"),\n",
    "    AveragePooling2D(pool_size=(2, 2), strides=(2, 2), padding='valid'),\n",
    "    Dropout(0.5),\n",
    "    Conv2D(64, kernel_size=(5, 5), strides=(1, 1), activation='tanh', padding='valid'),\n",
    "    AveragePooling2D(pool_size=(2, 2), strides=(2, 2), padding='valid'),\n",
    "    Conv2D(64, kernel_size=(2, 2), strides=(1, 1), activation='tanh', padding='valid'),\n",
    "    MaxPooling2D(pool_size=(2, 2), strides=(2, 2), padding='valid'),\n",
    "    Flatten(),\n",
    "    Dense(120, activation=\"relu\"),\n",
    "    Dropout(0.5),\n",
    "    Dense(120, activation=\"relu\"),\n",
    "    Dropout(0.5),\n",
    "    Dense(num_classes, activation=\"softmax\")\n",
    "])\n",
    "\n",
    "model.compile(optimizer=\"adam\", loss='sparse_categorical_crossentropy', metrics=['accuracy'])\n",
    "model.summary()"
   ]
  },
  {
   "cell_type": "code",
   "execution_count": null,
   "metadata": {},
   "outputs": [],
   "source": [
    "history = model.fit(\n",
    "    train_images, train_labels, \n",
    "    epochs=10, \n",
    "    validation_data=(val_images, val_labels), \n",
    "    batch_size=32)"
   ]
  },
  {
   "cell_type": "code",
   "execution_count": null,
   "metadata": {},
   "outputs": [],
   "source": [
    "def plot_history(history):\n",
    "    acc = history.history['accuracy']\n",
    "    val_acc = history.history['val_accuracy']\n",
    "\n",
    "    loss=history.history['loss']\n",
    "    val_loss=history.history['val_loss']\n",
    "\n",
    "    epochs_range = range(10)\n",
    "\n",
    "    plt.figure(figsize=(8, 8))\n",
    "    plt.subplot(1, 2, 1)\n",
    "    plt.plot(epochs_range, acc, label='Training Accuracy')\n",
    "    plt.plot(epochs_range, val_acc, label='Validation Accuracy')\n",
    "    plt.legend(loc='lower right')\n",
    "    plt.title('Training and Validation Accuracy')\n",
    "\n",
    "    plt.subplot(1, 2, 2)\n",
    "    plt.plot(epochs_range, loss, label='Training Loss')\n",
    "    plt.plot(epochs_range, val_loss, label='Validation Loss')\n",
    "    plt.legend(loc='upper right')\n",
    "    plt.title('Training and Validation Loss')\n",
    "    plt.show()\n",
    "    \n",
    "plot_history(history)"
   ]
  },
  {
   "cell_type": "code",
   "execution_count": null,
   "metadata": {},
   "outputs": [],
   "source": [
    "model.evaluate(test_images, test_labels)"
   ]
  },
  {
   "cell_type": "markdown",
   "metadata": {},
   "source": [
    "# Augmented images"
   ]
  },
  {
   "cell_type": "code",
   "execution_count": null,
   "metadata": {},
   "outputs": [],
   "source": [
    "from tensorflow.keras.preprocessing.image import ImageDataGenerator\n",
    "\n",
    "\n",
    "image_gen_train = ImageDataGenerator(\n",
    "    rotation_range=45,\n",
    "    width_shift_range=.15,\n",
    "    height_shift_range=.15,\n",
    "    horizontal_flip=True,\n",
    "    zoom_range=0.5\n",
    ")\n",
    "\n",
    "image_gen_val = ImageDataGenerator(\n",
    "    rotation_range=45,\n",
    "    width_shift_range=.15,\n",
    "    height_shift_range=.15,\n",
    "    horizontal_flip=True,\n",
    "    zoom_range=0.5\n",
    ")\n",
    "\n",
    "\n",
    "train_data_gen = image_gen_train.flow(\n",
    "    train_images, train_labels, \n",
    "    batch_size=64, shuffle=True)\n",
    "\n",
    "val_data_gen = image_gen_train.flow(\n",
    "    val_images, val_labels, \n",
    "    batch_size=64, shuffle=True)"
   ]
  },
  {
   "cell_type": "code",
   "execution_count": null,
   "metadata": {},
   "outputs": [],
   "source": [
    "augmented_images = [train_data_gen[0][0][0] for i in range(5)]\n",
    "plot_images(augmented_images)"
   ]
  },
  {
   "cell_type": "code",
   "execution_count": null,
   "metadata": {},
   "outputs": [],
   "source": [
    "history = model.fit_generator(train_data_gen, epochs=20, validation_data=val_data_gen)"
   ]
  },
  {
   "cell_type": "code",
   "execution_count": null,
   "metadata": {},
   "outputs": [],
   "source": [
    "plot_history(history)\n",
    "model.evaluate(test_images, test_labels)"
   ]
  },
  {
   "cell_type": "markdown",
   "metadata": {},
   "source": [
    "# VGG19 network"
   ]
  },
  {
   "cell_type": "code",
   "execution_count": null,
   "metadata": {},
   "outputs": [],
   "source": [
    "inception_base = tf.keras.applications.VGG19(weights='imagenet', include_top=False, input_shape=(32, 32, 3))\n",
    "\n",
    "for layer in inception_base.layers[:5]:\n",
    "    layer.trainable = False\n",
    "    \n",
    "x = inception_base.output\n",
    "x = tf.keras.layers.GlobalAveragePooling2D()(x)\n",
    "x = Dense(1024, activation=\"relu\")(x)\n",
    "x = Dropout(0.5)(x)\n",
    "x = Dense(1024, activation=\"relu\")(x)\n",
    "predictions = Dense(25, activation=\"softmax\")(x)\n",
    "\n",
    "inception_model = Model(inception_base.input, predictions)\n",
    "\n",
    "inception_model.compile(optimizer='sgd', loss='sparse_categorical_crossentropy', metrics=['accuracy'])\n",
    "inception_model.summary()"
   ]
  },
  {
   "cell_type": "markdown",
   "metadata": {},
   "source": [
    "## Resize data to fit VGG19"
   ]
  },
  {
   "cell_type": "code",
   "execution_count": null,
   "metadata": {},
   "outputs": [],
   "source": [
    "def gray_to_rgb(img):\n",
    "    img = np.repeat(img, 3, 2)\n",
    "    return img\n",
    "\n",
    "train_images_3p = np.array([gray_to_rgb(img) for img in tf.image.resize(train_images, (32, 32))])\n",
    "val_images_3p = np.array([gray_to_rgb(img) for img in tf.image.resize(val_images, (32, 32))])\n",
    "test_images_3p = np.array([gray_to_rgb(img) for img in tf.image.resize(test_images, (32, 32))])\n",
    "\n",
    "plt.imshow(train_images_3p[1])"
   ]
  },
  {
   "cell_type": "code",
   "execution_count": null,
   "metadata": {},
   "outputs": [],
   "source": [
    "inception_model.fit(\n",
    "    train_images_3p, train_labels, \n",
    "    epochs=2,\n",
    "    validation_data=(val_images_3p, val_labels), \n",
    "    validation_steps=10,\n",
    "    verbose=1)"
   ]
  },
  {
   "cell_type": "code",
   "execution_count": null,
   "metadata": {},
   "outputs": [],
   "source": [
    "inception_model.evaluate(test_images_3p, test_labels)"
   ]
  }
 ],
 "metadata": {
  "kernelspec": {
   "display_name": "Python 3.5",
   "language": "python",
   "name": "python3"
  },
  "language_info": {
   "codemirror_mode": {
    "name": "ipython",
    "version": 3
   },
   "file_extension": ".py",
   "mimetype": "text/x-python",
   "name": "python",
   "nbconvert_exporter": "python",
   "pygments_lexer": "ipython3",
   "version": "3.5.6"
  }
 },
 "nbformat": 4,
 "nbformat_minor": 2
}
