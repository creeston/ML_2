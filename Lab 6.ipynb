{
 "cells": [
  {
   "cell_type": "code",
   "execution_count": 1,
   "metadata": {},
   "outputs": [],
   "source": [
    "from urllib.request import urlretrieve\n",
    "import zipfile\n",
    "import os\n",
    "\n",
    "def download_file(url, path):\n",
    "    print(\"Downloading from %s\" % url)\n",
    "    zip_path = path + \".zip\"\n",
    "    urlretrieve(url, zip_path)\n",
    "    with zipfile.ZipFile(zip_path, 'r') as zip_ref:\n",
    "        zip_ref.extractall(\"\")\n",
    "    os.remove(zip_path)    "
   ]
  },
  {
   "cell_type": "code",
   "execution_count": 2,
   "metadata": {},
   "outputs": [
    {
     "name": "stdout",
     "output_type": "stream",
     "text": [
      "Downloading from https://storage.googleapis.com/kaggle-data-sets/3258/5337/bundle/archive.zip?GoogleAccessId=web-data@kaggle-161607.iam.gserviceaccount.com&Expires=1586457678&Signature=Fpk8Z%2BNCFNBkVKBztZZR5QHgmGBdfjXb6g3f8SWjGz8bXPgdh3jqslYfZ3EorgG6SvMcZ17OlGQ8zkrzWbGkN0Va5cHRVq5LYfDrJBw2rIbmaw3S4TUFR6XZTgwjmfIrD69G6w7Q1US4SydNmKb42Duf7pbP51VrK3RTPBHqowBvvM5wzQpkmDd6UMkIxKVltsZRtV%2F8SLuQKz%2BtUXP5dc88vXUU1M3REQ2NuFjrOakd3%2BINEzPnIDbIbpdedD4hFe95zBjNiMURqW4a8u4FplVVw9xI4ugdqOukzKC6pXnBetlgy5R0eyUJP2Udf63tp0s6NN%2FjOp8Clf5P9yOe%2FQ%3D%3D&response-content-disposition=attachment%3B+filename%3Dsign-language-mnist.zip\n"
     ]
    }
   ],
   "source": [
    "url = \"https://storage.googleapis.com/kaggle-data-sets/3258/5337/bundle/archive.zip?GoogleAccessId=web-data@kaggle-161607.iam.gserviceaccount.com&Expires=1586457678&Signature=Fpk8Z%2BNCFNBkVKBztZZR5QHgmGBdfjXb6g3f8SWjGz8bXPgdh3jqslYfZ3EorgG6SvMcZ17OlGQ8zkrzWbGkN0Va5cHRVq5LYfDrJBw2rIbmaw3S4TUFR6XZTgwjmfIrD69G6w7Q1US4SydNmKb42Duf7pbP51VrK3RTPBHqowBvvM5wzQpkmDd6UMkIxKVltsZRtV%2F8SLuQKz%2BtUXP5dc88vXUU1M3REQ2NuFjrOakd3%2BINEzPnIDbIbpdedD4hFe95zBjNiMURqW4a8u4FplVVw9xI4ugdqOukzKC6pXnBetlgy5R0eyUJP2Udf63tp0s6NN%2FjOp8Clf5P9yOe%2FQ%3D%3D&response-content-disposition=attachment%3B+filename%3Dsign-language-mnist.zip\"\n",
    "download_file(url, \"sign-mnist\")"
   ]
  },
  {
   "cell_type": "code",
   "execution_count": 56,
   "metadata": {},
   "outputs": [],
   "source": [
    "import numpy as np\n",
    "\n",
    "def read_images_and_labels(filename):\n",
    "    images = []\n",
    "    with open(filename) as f:\n",
    "        f.readline() # read header\n",
    "        for line in f:\n",
    "            label, *values = line.strip().split(',')\n",
    "            image = np.array([float(v) for v in values]) / 255\n",
    "            image.resize((28, 28, 1))\n",
    "            images.append((int(label), image))\n",
    "            \n",
    "    return images"
   ]
  },
  {
   "cell_type": "code",
   "execution_count": 69,
   "metadata": {},
   "outputs": [],
   "source": [
    "test_images = read_images_and_labels(\"sign_mnist_test.csv\")\n",
    "train_images = read_images_and_labels(\"sign_mnist_train.csv\")\n",
    "\n",
    "train_len = len(train_images)\n",
    "val_len = int(train_len * 0.05)\n",
    "val_images = train_images[:val_len]\n",
    "train_images = train_images[val_len:]\n",
    "\n",
    "val_labels = [p[0] for p in val_images]\n",
    "val_images = [p[1] for p in val_images]\n",
    "\n",
    "train_labels = [p[0] for p in train_images]\n",
    "train_images = [p[1] for p in train_images]\n",
    "\n",
    "test_labels = [p[0] for p in test_images]\n",
    "test_images = [p[1] for p in test_images]"
   ]
  },
  {
   "cell_type": "code",
   "execution_count": 76,
   "metadata": {},
   "outputs": [],
   "source": [
    "classes = sorted(list(set(train_labels + val_labels + test_labels)))\n",
    "num_classes = max(classes) + 1"
   ]
  },
  {
   "cell_type": "code",
   "execution_count": 94,
   "metadata": {},
   "outputs": [],
   "source": [
    "image_gen_train = ImageDataGenerator(\n",
    " \n",
    ")\n",
    "\n",
    "image_gen_val = ImageDataGenerator(\n",
    "\n",
    ")\n",
    "\n",
    "\n",
    "train_data_gen = image_gen_train.flow(\n",
    "    np.array(train_images), np.array(train_labels), \n",
    "    batch_size=64, shuffle=True)\n",
    "\n",
    "val_data_gen = image_gen_train.flow(\n",
    "    np.array(val_images), np.array(val_labels), \n",
    "    batch_size=64, shuffle=True)"
   ]
  },
  {
   "cell_type": "code",
   "execution_count": 71,
   "metadata": {},
   "outputs": [
    {
     "data": {
      "image/png": "[encoded data removed]",
      "text/plain": [
       "<Figure size 2016x2016 with 5 Axes>"
      ]
     },
     "metadata": {
      "needs_background": "light"
     },
     "output_type": "display_data"
    }
   ],
   "source": [
    "import matplotlib.pyplot as plt\n",
    "import random\n",
    "\n",
    "fig, axes = plt.subplots(1, 5, figsize=(28,28))\n",
    "axes = axes.flatten()\n",
    "image_arr = [random.choice(train_images) for i in range(5)]\n",
    "for img, ax in zip(image_arr, axes):\n",
    "    img = np.array(img)\n",
    "    img.resize((28, 28))\n",
    "    ax.imshow(img)\n",
    "    ax.axis('off')\n",
    "plt.tight_layout()\n",
    "plt.show()"
   ]
  },
  {
   "cell_type": "code",
   "execution_count": 95,
   "metadata": {},
   "outputs": [
    {
     "name": "stdout",
     "output_type": "stream",
     "text": [
      "Model: \"model_11\"\n",
      "_________________________________________________________________\n",
      "Layer (type)                 Output Shape              Param #   \n",
      "=================================================================\n",
      "input_13 (InputLayer)        [(None, 28, 28, 1)]       0         \n",
      "_________________________________________________________________\n",
      "conv2d_23 (Conv2D)           (None, 28, 28, 6)         156       \n",
      "_________________________________________________________________\n",
      "average_pooling2d_22 (Averag (None, 14, 14, 6)         0         \n",
      "_________________________________________________________________\n",
      "conv2d_24 (Conv2D)           (None, 10, 10, 16)        2416      \n",
      "_________________________________________________________________\n",
      "average_pooling2d_23 (Averag (None, 5, 5, 16)          0         \n",
      "_________________________________________________________________\n",
      "flatten_11 (Flatten)         (None, 400)               0         \n",
      "_________________________________________________________________\n",
      "dense_33 (Dense)             (None, 120)               48120     \n",
      "_________________________________________________________________\n",
      "dropout_22 (Dropout)         (None, 120)               0         \n",
      "_________________________________________________________________\n",
      "dense_34 (Dense)             (None, 84)                10164     \n",
      "_________________________________________________________________\n",
      "dropout_23 (Dropout)         (None, 84)                0         \n",
      "_________________________________________________________________\n",
      "dense_35 (Dense)             (None, 25)                2125      \n",
      "=================================================================\n",
      "Total params: 62,981\n",
      "Trainable params: 62,981\n",
      "Non-trainable params: 0\n",
      "_________________________________________________________________\n"
     ]
    }
   ],
   "source": [
    "from tensorflow.keras import layers, Model, Input\n",
    "from tensorflow.keras.layers import Dense, Dropout, Conv2D, Flatten, AveragePooling2D\n",
    "\n",
    "input_images = Input(shape=(28, 28, 1,))\n",
    "model = Conv2D(6, kernel_size=(5, 5), strides=(1, 1), activation='tanh', input_shape=(28, 28, 1), padding=\"same\")(input_images)\n",
    "model = AveragePooling2D(pool_size=(2, 2), strides=(2, 2), padding='valid')(model)\n",
    "model = Conv2D(16, kernel_size=(5, 5), strides=(1, 1), activation='tanh', padding='valid')(model)\n",
    "model = AveragePooling2D(pool_size=(2, 2), strides=(2, 2), padding='valid')(model)\n",
    "model = Flatten()(model)\n",
    "model = Dense(120, activation=\"relu\")(model)\n",
    "model = Dropout(0.5)(model)\n",
    "model = Dense(84, activation=\"relu\")(model)\n",
    "model = Dropout(0.5)(model)\n",
    "model = Dense(num_classes, activation=\"softmax\")(model)\n",
    "\n",
    "model = Model(input_images, model)\n",
    "model.compile(optimizer=\"adam\", loss='sparse_categorical_crossentropy', metrics=['accuracy'])\n",
    "model.summary()"
   ]
  },
  {
   "cell_type": "code",
   "execution_count": 80,
   "metadata": {
    "collapsed": true
   },
   "outputs": [
    {
     "name": "stdout",
     "output_type": "stream",
     "text": [
      "Train on 26083 samples, validate on 1372 samples\n",
      "Epoch 1/15\n",
      "26083/26083 [==============================] - 12s 479us/sample - loss: 2.4861 - accuracy: 0.2369 - val_loss: 1.3560 - val_accuracy: 0.6159\n",
      "Epoch 2/15\n",
      "26083/26083 [==============================] - 11s 440us/sample - loss: 1.4897 - accuracy: 0.5158 - val_loss: 0.8018 - val_accuracy: 0.7733\n",
      "Epoch 3/15\n",
      "26083/26083 [==============================] - 11s 436us/sample - loss: 1.1338 - accuracy: 0.6216 - val_loss: 0.5525 - val_accuracy: 0.8542\n",
      "Epoch 4/15\n",
      "26083/26083 [==============================] - 11s 433us/sample - loss: 0.9542 - accuracy: 0.6780 - val_loss: 0.4206 - val_accuracy: 0.8972\n",
      "Epoch 5/15\n",
      "26083/26083 [==============================] - 11s 439us/sample - loss: 0.8141 - accuracy: 0.7233 - val_loss: 0.3253 - val_accuracy: 0.9198\n",
      "Epoch 6/15\n",
      "26083/26083 [==============================] - 11s 439us/sample - loss: 0.7301 - accuracy: 0.7473 - val_loss: 0.2592 - val_accuracy: 0.9468\n",
      "Epoch 7/15\n",
      "26083/26083 [==============================] - 44s 2ms/sample - loss: 0.6510 - accuracy: 0.7775 - val_loss: 0.2096 - val_accuracy: 0.9512\n",
      "Epoch 8/15\n",
      "26083/26083 [==============================] - 53s 2ms/sample - loss: 0.5720 - accuracy: 0.8047 - val_loss: 0.1690 - val_accuracy: 0.9672\n",
      "Epoch 9/15\n",
      "26083/26083 [==============================] - 53s 2ms/sample - loss: 0.5321 - accuracy: 0.8187 - val_loss: 0.1430 - val_accuracy: 0.9723\n",
      "Epoch 10/15\n",
      "26083/26083 [==============================] - 54s 2ms/sample - loss: 0.4720 - accuracy: 0.8388 - val_loss: 0.1039 - val_accuracy: 0.9832\n",
      "Epoch 11/15\n",
      "26083/26083 [==============================] - 53s 2ms/sample - loss: 0.4311 - accuracy: 0.8566 - val_loss: 0.0921 - val_accuracy: 0.9891\n",
      "Epoch 12/15\n",
      "26083/26083 [==============================] - 53s 2ms/sample - loss: 0.4056 - accuracy: 0.8600 - val_loss: 0.0780 - val_accuracy: 0.9934\n",
      "Epoch 13/15\n",
      "26083/26083 [==============================] - 53s 2ms/sample - loss: 0.3749 - accuracy: 0.8727 - val_loss: 0.0622 - val_accuracy: 0.9927\n",
      "Epoch 14/15\n",
      "26083/26083 [==============================] - 53s 2ms/sample - loss: 0.3410 - accuracy: 0.8857 - val_loss: 0.0494 - val_accuracy: 0.9949\n",
      "Epoch 15/15\n",
      "26083/26083 [==============================] - 53s 2ms/sample - loss: 0.3160 - accuracy: 0.8956 - val_loss: 0.0403 - val_accuracy: 1.0000\n"
     ]
    },
    {
     "data": {
      "text/plain": [
       "<tensorflow.python.keras.callbacks.History at 0x7fc5d182eef0>"
      ]
     },
     "execution_count": 80,
     "metadata": {},
     "output_type": "execute_result"
    }
   ],
   "source": [
    "model.fit(np.array(train_images), np.array(train_labels), epochs=15, validation_data=(np.array(val_images), np.array(val_labels)), batch_size=128)"
   ]
  },
  {
   "cell_type": "code",
   "execution_count": 96,
   "metadata": {},
   "outputs": [
    {
     "name": "stdout",
     "output_type": "stream",
     "text": [
      "WARNING:tensorflow:sample_weight modes were coerced from\n",
      "  ...\n",
      "    to  \n",
      "  ['...']\n",
      "WARNING:tensorflow:sample_weight modes were coerced from\n",
      "  ...\n",
      "    to  \n",
      "  ['...']\n",
      "Train for 408 steps, validate for 22 steps\n",
      "Epoch 1/15\n",
      "408/408 [==============================] - 70s 171ms/step - loss: 2.3403 - accuracy: 0.2784 - val_loss: 1.1153 - val_accuracy: 0.6771\n",
      "Epoch 2/15\n",
      "408/408 [==============================] - 67s 164ms/step - loss: 1.3130 - accuracy: 0.5662 - val_loss: 0.6242 - val_accuracy: 0.8287\n",
      "Epoch 3/15\n",
      "408/408 [==============================] - 67s 164ms/step - loss: 0.9888 - accuracy: 0.6700 - val_loss: 0.4270 - val_accuracy: 0.9052\n",
      "Epoch 4/15\n",
      "408/408 [==============================] - 67s 163ms/step - loss: 0.8046 - accuracy: 0.7292 - val_loss: 0.3180 - val_accuracy: 0.9395\n",
      "Epoch 5/15\n",
      "408/408 [==============================] - 67s 164ms/step - loss: 0.6865 - accuracy: 0.7656 - val_loss: 0.2298 - val_accuracy: 0.9679\n",
      "Epoch 6/15\n",
      "408/408 [==============================] - 67s 163ms/step - loss: 0.6024 - accuracy: 0.7948 - val_loss: 0.1659 - val_accuracy: 0.9738\n",
      "Epoch 7/15\n",
      "408/408 [==============================] - 67s 165ms/step - loss: 0.5345 - accuracy: 0.8209 - val_loss: 0.1353 - val_accuracy: 0.9810\n",
      "Epoch 8/15\n",
      "408/408 [==============================] - 69s 168ms/step - loss: 0.4646 - accuracy: 0.8421 - val_loss: 0.0947 - val_accuracy: 0.9913\n",
      "Epoch 9/15\n",
      "408/408 [==============================] - 70s 170ms/step - loss: 0.4263 - accuracy: 0.8570 - val_loss: 0.0743 - val_accuracy: 0.9942\n",
      "Epoch 10/15\n",
      "408/408 [==============================] - 68s 166ms/step - loss: 0.3866 - accuracy: 0.8729 - val_loss: 0.0606 - val_accuracy: 0.9971\n",
      "Epoch 11/15\n",
      "408/408 [==============================] - 67s 164ms/step - loss: 0.3435 - accuracy: 0.8848 - val_loss: 0.0580 - val_accuracy: 0.9949\n",
      "Epoch 12/15\n",
      "408/408 [==============================] - 68s 166ms/step - loss: 0.3180 - accuracy: 0.8921 - val_loss: 0.0371 - val_accuracy: 0.9985\n",
      "Epoch 13/15\n",
      "408/408 [==============================] - 66s 163ms/step - loss: 0.3005 - accuracy: 0.8999 - val_loss: 0.0301 - val_accuracy: 0.9971\n",
      "Epoch 14/15\n",
      "408/408 [==============================] - 66s 162ms/step - loss: 0.2731 - accuracy: 0.9089 - val_loss: 0.0199 - val_accuracy: 0.9993\n",
      "Epoch 15/15\n",
      "408/408 [==============================] - 66s 162ms/step - loss: 0.2558 - accuracy: 0.9150 - val_loss: 0.0162 - val_accuracy: 0.9993\n"
     ]
    },
    {
     "data": {
      "text/plain": [
       "<tensorflow.python.keras.callbacks.History at 0x7fc53c588550>"
      ]
     },
     "execution_count": 96,
     "metadata": {},
     "output_type": "execute_result"
    }
   ],
   "source": [
    "model.fit_generator(train_data_gen, epochs=15, validation_data=val_data_gen)"
   ]
  },
  {
   "cell_type": "code",
   "execution_count": 97,
   "metadata": {},
   "outputs": [
    {
     "name": "stdout",
     "output_type": "stream",
     "text": [
      "7172/7172 [==============================] - 5s 658us/sample - loss: 0.5293 - accuracy: 0.8586\n"
     ]
    },
    {
     "data": {
      "text/plain": [
       "[0.5292859370770879, 0.8586168]"
      ]
     },
     "execution_count": 97,
     "metadata": {},
     "output_type": "execute_result"
    }
   ],
   "source": [
    "model.evaluate(np.array(test_images), np.array(test_labels))"
   ]
  },
  {
   "cell_type": "code",
   "execution_count": 87,
   "metadata": {},
   "outputs": [],
   "source": [
    "def plotImages(images_arr):\n",
    "    fig, axes = plt.subplots(1, 5, figsize=(28,28))\n",
    "    axes = axes.flatten()\n",
    "    for img, ax in zip( images_arr, axes):\n",
    "        img = np.array(img)\n",
    "        img.resize(28, 28)\n",
    "        ax.imshow(img)\n",
    "        ax.axis('off')\n",
    "    plt.tight_layout()\n",
    "    plt.show()"
   ]
  },
  {
   "cell_type": "code",
   "execution_count": 98,
   "metadata": {},
   "outputs": [],
   "source": [
    "from tensorflow.keras.preprocessing.image import ImageDataGenerator\n",
    "\n",
    "\n",
    "image_gen_train = ImageDataGenerator(\n",
    "    rotation_range=45,\n",
    "    width_shift_range=.15,\n",
    "    height_shift_range=.15,\n",
    "    horizontal_flip=True,\n",
    "    zoom_range=0.5\n",
    ")\n",
    "\n",
    "image_gen_val = ImageDataGenerator(\n",
    "    rotation_range=45,\n",
    "    width_shift_range=.15,\n",
    "    height_shift_range=.15,\n",
    "    horizontal_flip=True,\n",
    "    zoom_range=0.5\n",
    ")\n",
    "\n",
    "\n",
    "train_data_gen = image_gen_train.flow(\n",
    "    np.array(train_images), np.array(train_labels), \n",
    "    batch_size=64, shuffle=True)\n",
    "\n",
    "val_data_gen = image_gen_train.flow(\n",
    "    np.array(val_images), np.array(val_labels), \n",
    "    batch_size=64, shuffle=True)"
   ]
  },
  {
   "cell_type": "code",
   "execution_count": 99,
   "metadata": {},
   "outputs": [
    {
     "data": {
      "image/png": "[encoded data removed]",
      "text/plain": [
       "<Figure size 2016x2016 with 5 Axes>"
      ]
     },
     "metadata": {
      "needs_background": "light"
     },
     "output_type": "display_data"
    }
   ],
   "source": [
    "augmented_images = [train_data_gen[0][0][0] for i in range(5)]\n",
    "plotImages(augmented_images)"
   ]
  },
  {
   "cell_type": "code",
   "execution_count": 100,
   "metadata": {},
   "outputs": [
    {
     "name": "stdout",
     "output_type": "stream",
     "text": [
      "Model: \"model_12\"\n",
      "_________________________________________________________________\n",
      "Layer (type)                 Output Shape              Param #   \n",
      "=================================================================\n",
      "input_14 (InputLayer)        [(None, 28, 28, 1)]       0         \n",
      "_________________________________________________________________\n",
      "conv2d_25 (Conv2D)           (None, 28, 28, 6)         156       \n",
      "_________________________________________________________________\n",
      "average_pooling2d_24 (Averag (None, 14, 14, 6)         0         \n",
      "_________________________________________________________________\n",
      "conv2d_26 (Conv2D)           (None, 10, 10, 16)        2416      \n",
      "_________________________________________________________________\n",
      "average_pooling2d_25 (Averag (None, 5, 5, 16)          0         \n",
      "_________________________________________________________________\n",
      "flatten_12 (Flatten)         (None, 400)               0         \n",
      "_________________________________________________________________\n",
      "dense_36 (Dense)             (None, 120)               48120     \n",
      "_________________________________________________________________\n",
      "dropout_24 (Dropout)         (None, 120)               0         \n",
      "_________________________________________________________________\n",
      "dense_37 (Dense)             (None, 84)                10164     \n",
      "_________________________________________________________________\n",
      "dropout_25 (Dropout)         (None, 84)                0         \n",
      "_________________________________________________________________\n",
      "dense_38 (Dense)             (None, 25)                2125      \n",
      "=================================================================\n",
      "Total params: 62,981\n",
      "Trainable params: 62,981\n",
      "Non-trainable params: 0\n",
      "_________________________________________________________________\n"
     ]
    }
   ],
   "source": [
    "input_images = Input(shape=(28, 28, 1,))\n",
    "model = Conv2D(6, kernel_size=(5, 5), strides=(1, 1), activation='tanh', input_shape=(28, 28, 1), padding=\"same\")(input_images)\n",
    "model = AveragePooling2D(pool_size=(2, 2), strides=(2, 2), padding='valid')(model)\n",
    "model = Conv2D(16, kernel_size=(5, 5), strides=(1, 1), activation='tanh', padding='valid')(model)\n",
    "model = AveragePooling2D(pool_size=(2, 2), strides=(2, 2), padding='valid')(model)\n",
    "model = Flatten()(model)\n",
    "model = Dense(120, activation=\"relu\")(model)\n",
    "model = Dropout(0.5)(model)\n",
    "model = Dense(84, activation=\"relu\")(model)\n",
    "model = Dropout(0.5)(model)\n",
    "model = Dense(num_classes, activation=\"softmax\")(model)\n",
    "\n",
    "model = Model(input_images, model)\n",
    "model.compile(optimizer=\"adam\", loss='sparse_categorical_crossentropy', metrics=['accuracy'])\n",
    "model.summary()"
   ]
  },
  {
   "cell_type": "code",
   "execution_count": 101,
   "metadata": {},
   "outputs": [
    {
     "name": "stdout",
     "output_type": "stream",
     "text": [
      "WARNING:tensorflow:sample_weight modes were coerced from\n",
      "  ...\n",
      "    to  \n",
      "  ['...']\n",
      "WARNING:tensorflow:sample_weight modes were coerced from\n",
      "  ...\n",
      "    to  \n",
      "  ['...']\n",
      "Train for 408 steps, validate for 22 steps\n",
      "Epoch 1/15\n",
      "408/408 [==============================] - 64s 156ms/step - loss: 3.1276 - accuracy: 0.0695 - val_loss: 2.9303 - val_accuracy: 0.1305\n",
      "Epoch 2/15\n",
      "408/408 [==============================] - 49s 119ms/step - loss: 2.9264 - accuracy: 0.1136 - val_loss: 2.7744 - val_accuracy: 0.1567\n",
      "Epoch 3/15\n",
      "408/408 [==============================] - 63s 154ms/step - loss: 2.8454 - accuracy: 0.1341 - val_loss: 2.6829 - val_accuracy: 0.1851\n",
      "Epoch 4/15\n",
      "408/408 [==============================] - 87s 214ms/step - loss: 2.7881 - accuracy: 0.1498 - val_loss: 2.5933 - val_accuracy: 0.2026\n",
      "Epoch 5/15\n",
      "408/408 [==============================] - 83s 203ms/step - loss: 2.7524 - accuracy: 0.1568 - val_loss: 2.6286 - val_accuracy: 0.2055\n",
      "Epoch 6/15\n",
      "408/408 [==============================] - 82s 202ms/step - loss: 2.7193 - accuracy: 0.1644 - val_loss: 2.5650 - val_accuracy: 0.2048\n",
      "Epoch 7/15\n",
      "408/408 [==============================] - 84s 205ms/step - loss: 2.6998 - accuracy: 0.1708 - val_loss: 2.5561 - val_accuracy: 0.2376\n",
      "Epoch 8/15\n",
      "408/408 [==============================] - 84s 205ms/step - loss: 2.6819 - accuracy: 0.1796 - val_loss: 2.5379 - val_accuracy: 0.2238\n",
      "Epoch 9/15\n",
      "408/408 [==============================] - 81s 199ms/step - loss: 2.6643 - accuracy: 0.1769 - val_loss: 2.4815 - val_accuracy: 0.2318\n",
      "Epoch 10/15\n",
      "408/408 [==============================] - 82s 202ms/step - loss: 2.6536 - accuracy: 0.1831 - val_loss: 2.4712 - val_accuracy: 0.2493\n",
      "Epoch 11/15\n",
      "408/408 [==============================] - 81s 199ms/step - loss: 2.6335 - accuracy: 0.1881 - val_loss: 2.4356 - val_accuracy: 0.2580\n",
      "Epoch 12/15\n",
      "408/408 [==============================] - 81s 197ms/step - loss: 2.6275 - accuracy: 0.1882 - val_loss: 2.4471 - val_accuracy: 0.2434\n",
      "Epoch 13/15\n",
      "408/408 [==============================] - 82s 201ms/step - loss: 2.6185 - accuracy: 0.1940 - val_loss: 2.4592 - val_accuracy: 0.2449\n",
      "Epoch 14/15\n",
      "408/408 [==============================] - 81s 198ms/step - loss: 2.6135 - accuracy: 0.1927 - val_loss: 2.4093 - val_accuracy: 0.2566\n",
      "Epoch 15/15\n",
      "408/408 [==============================] - 87s 213ms/step - loss: 2.5969 - accuracy: 0.1981 - val_loss: 2.4234 - val_accuracy: 0.2595\n"
     ]
    },
    {
     "data": {
      "text/plain": [
       "<tensorflow.python.keras.callbacks.History at 0x7fc53c2531d0>"
      ]
     },
     "execution_count": 101,
     "metadata": {},
     "output_type": "execute_result"
    }
   ],
   "source": [
    "model.fit_generator(train_data_gen, epochs=15, validation_data=val_data_gen)"
   ]
  },
  {
   "cell_type": "code",
   "execution_count": null,
   "metadata": {},
   "outputs": [],
   "source": []
  }
 ],
 "metadata": {
  "kernelspec": {
   "display_name": "Python 3.5",
   "language": "python",
   "name": "python3"
  },
  "language_info": {
   "codemirror_mode": {
    "name": "ipython",
    "version": 3
   },
   "file_extension": ".py",
   "mimetype": "text/x-python",
   "name": "python",
   "nbconvert_exporter": "python",
   "pygments_lexer": "ipython3",
   "version": "3.5.6"
  }
 },
 "nbformat": 4,
 "nbformat_minor": 2
}
